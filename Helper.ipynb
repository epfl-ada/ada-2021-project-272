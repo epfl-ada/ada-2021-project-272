{
 "cells": [
  {
   "cell_type": "markdown",
   "id": "e9b7412e-d1d0-4fad-abd3-aef06571f92b",
   "metadata": {},
   "source": [
    "##### Concatenation of different files"
   ]
  },
  {
   "cell_type": "code",
   "execution_count": 1,
   "id": "ef81ad09-73ba-460c-979e-2b7198d576b8",
   "metadata": {},
   "outputs": [],
   "source": [
    "import os\n",
    "import pandas as pd\n",
    "def concat(dir_in,file_out):\n",
    "    df=pd.DataFrame()\n",
    "    for file in os.listdir(dir_in):\n",
    "        if file[-3:]=='csv':\n",
    "            df_cur=pd.read_csv(dir_in+'/'+file,index_col='Unnamed: 0')\n",
    "            df=pd.concat([df,df_cur]).copy()\n",
    "    df.to_csv(file_out)"
   ]
  },
  {
   "cell_type": "code",
   "execution_count": 2,
   "id": "d281e66f-086a-4779-8079-01b4c157f577",
   "metadata": {},
   "outputs": [],
   "source": [
    "concat('out/2018','out/2018/global_warming.csv')"
   ]
  },
  {
   "cell_type": "code",
   "execution_count": 3,
   "id": "c607a710-852b-480c-b5c0-1fff048c62bd",
   "metadata": {},
   "outputs": [],
   "source": [
    "concat('out/2019','global_warming2019.csv')"
   ]
  },
  {
   "cell_type": "code",
   "execution_count": null,
   "id": "a56130ed-d973-40dd-9662-252e2db28cbf",
   "metadata": {},
   "outputs": [],
   "source": []
  }
 ],
 "metadata": {
  "kernelspec": {
   "display_name": "Python [conda env:ada] *",
   "language": "python",
   "name": "conda-env-ada-py"
  },
  "language_info": {
   "codemirror_mode": {
    "name": "ipython",
    "version": 3
   },
   "file_extension": ".py",
   "mimetype": "text/x-python",
   "name": "python",
   "nbconvert_exporter": "python",
   "pygments_lexer": "ipython3",
   "version": "3.8.11"
  }
 },
 "nbformat": 4,
 "nbformat_minor": 5
}
