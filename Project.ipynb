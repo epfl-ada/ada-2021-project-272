{
 "cells": [
  {
   "cell_type": "code",
   "execution_count": 23,
   "id": "b8f03087-1177-4d81-aa7b-637f95a7ce2c",
   "metadata": {},
   "outputs": [],
   "source": [
    "import pandas as pd\n",
    "import matplotlib.pyplot as plt"
   ]
  },
  {
   "cell_type": "markdown",
   "id": "6e52c932-922e-48f8-8220-bc18a70182b1",
   "metadata": {},
   "source": [
    "#### Getting data"
   ]
  },
  {
   "cell_type": "markdown",
   "id": "1f12a33a-fada-438e-bfa9-635552c28747",
   "metadata": {},
   "source": [
    "Reading data with sentiment analysis"
   ]
  },
  {
   "cell_type": "code",
   "execution_count": 8,
   "id": "6bc78d56-fc23-42d1-8ef8-2c1025fca081",
   "metadata": {
    "tags": []
   },
   "outputs": [],
   "source": [
    "gw_sent=pd.read_csv('data/sentiment_analysis/global_warming_sent.csv',index_col='Unnamed: 0')\n",
    "ab_sent=pd.read_csv('data/sentiment_analysis/abortion_sent.csv',index_col='Unnamed: 0')\n",
    "#gi_sent=pd.read_csv('data/sentiment_analysis/gender_inequality_sent.csv',index_col='Unnamed: 0')\n",
    "#gc_sent=pd.read_csv('data/sentiment_analysis/gun_control_sent.csv',index_col='Unnamed: 0')"
   ]
  },
  {
   "cell_type": "code",
   "execution_count": 19,
   "id": "00fa5bea-460b-4564-aa60-5208f24ba814",
   "metadata": {},
   "outputs": [],
   "source": [
    "#Adding year column\n",
    "gw_sent['year']=gw_sent['date'].apply(lambda x: x.split('-')[0])\n",
    "ab_sent['year']=ab_sent['date'].apply(lambda x: x.split('-')[0])\n",
    "#gi_sent['year']=gi_sent['date'].apply(lambda x: x.split('-')[0])\n",
    "#gc_sent['year']=gc_sent['date'].apply(lambda x: x.split('-')[0])"
   ]
  },
  {
   "cell_type": "markdown",
   "id": "90b1ef0f-0b69-436f-b511-73eb7af93f08",
   "metadata": {},
   "source": [
    "Reading data with speakers attributes"
   ]
  },
  {
   "cell_type": "code",
   "execution_count": 9,
   "id": "3c484387-d14a-49c1-bf93-760f743e2788",
   "metadata": {},
   "outputs": [],
   "source": [
    "gw=pd.read_csv('data/attributes/global_warming.csv',index_col='Unnamed: 0')\n",
    "ab=pd.read_csv('data/attributes/abortion.csv',index_col='Unnamed: 0')\n",
    "#gi_sent=pd.read_csv('data/sentiment_analysis/gender_inequality_sent.csv',index_col='Unnamed: 0')\n",
    "#gc_sent=pd.read_csv('data/sentiment_analysis/gun_control_sent.csv',index_col='Unnamed: 0')"
   ]
  },
  {
   "cell_type": "markdown",
   "id": "ebd256b8-55a0-4b1e-88d4-55024b7613a3",
   "metadata": {},
   "source": [
    "#### Analysis over the data"
   ]
  },
  {
   "cell_type": "markdown",
   "id": "734e0c94-1735-4351-8b40-8bfe619c33c6",
   "metadata": {},
   "source": [
    "###### Global warming"
   ]
  },
  {
   "cell_type": "code",
   "execution_count": 21,
   "id": "ab1f8357-e08b-437f-9af4-79fab45c5d0f",
   "metadata": {},
   "outputs": [
    {
     "data": {
      "text/html": [
       "<div>\n",
       "<style scoped>\n",
       "    .dataframe tbody tr th:only-of-type {\n",
       "        vertical-align: middle;\n",
       "    }\n",
       "\n",
       "    .dataframe tbody tr th {\n",
       "        vertical-align: top;\n",
       "    }\n",
       "\n",
       "    .dataframe thead th {\n",
       "        text-align: right;\n",
       "    }\n",
       "</style>\n",
       "<table border=\"1\" class=\"dataframe\">\n",
       "  <thead>\n",
       "    <tr style=\"text-align: right;\">\n",
       "      <th></th>\n",
       "      <th>quoteID</th>\n",
       "      <th>quotation</th>\n",
       "      <th>speaker</th>\n",
       "      <th>qids</th>\n",
       "      <th>date</th>\n",
       "      <th>probas</th>\n",
       "      <th>positive scores</th>\n",
       "      <th>negative scores</th>\n",
       "      <th>compound scores</th>\n",
       "      <th>year</th>\n",
       "    </tr>\n",
       "    <tr>\n",
       "      <th>Unnamed: 0</th>\n",
       "      <th></th>\n",
       "      <th></th>\n",
       "      <th></th>\n",
       "      <th></th>\n",
       "      <th></th>\n",
       "      <th></th>\n",
       "      <th></th>\n",
       "      <th></th>\n",
       "      <th></th>\n",
       "      <th></th>\n",
       "    </tr>\n",
       "  </thead>\n",
       "  <tbody>\n",
       "    <tr>\n",
       "      <th>271</th>\n",
       "      <td>2019-01-07-043005</td>\n",
       "      <td>It [ the BAP ] primarily provides the strategi...</td>\n",
       "      <td>None</td>\n",
       "      <td>[]</td>\n",
       "      <td>2019-01-07 08:42:18</td>\n",
       "      <td>[['None', '0.9189'], ['Rodrigo Duterte', '0.08...</td>\n",
       "      <td>0.094</td>\n",
       "      <td>0.0</td>\n",
       "      <td>0.3818</td>\n",
       "      <td>2019</td>\n",
       "    </tr>\n",
       "    <tr>\n",
       "      <th>748</th>\n",
       "      <td>2019-01-14-004682</td>\n",
       "      <td>Ananth has played an important role in making ...</td>\n",
       "      <td>Ananth Narayanan</td>\n",
       "      <td>['Q43384585']</td>\n",
       "      <td>2019-01-14 05:30:00</td>\n",
       "      <td>[['Ananth Narayanan', '0.6639'], ['None', '0.3...</td>\n",
       "      <td>0.221</td>\n",
       "      <td>0.0</td>\n",
       "      <td>0.7003</td>\n",
       "      <td>2019</td>\n",
       "    </tr>\n",
       "    <tr>\n",
       "      <th>1218</th>\n",
       "      <td>2019-03-28-008213</td>\n",
       "      <td>As far as temperature forecasts in the coming ...</td>\n",
       "      <td>Khalid Mehmood</td>\n",
       "      <td>['Q24006135']</td>\n",
       "      <td>2019-03-28 14:05:53</td>\n",
       "      <td>[['Khalid Mehmood', '0.5785'], ['None', '0.421...</td>\n",
       "      <td>0.058</td>\n",
       "      <td>0.0</td>\n",
       "      <td>0.4194</td>\n",
       "      <td>2019</td>\n",
       "    </tr>\n",
       "    <tr>\n",
       "      <th>1933</th>\n",
       "      <td>2019-07-22-037315</td>\n",
       "      <td>Malcolm is the right person at the right time ...</td>\n",
       "      <td>Linda Church</td>\n",
       "      <td>['Q6551474']</td>\n",
       "      <td>2019-07-22 16:50:00</td>\n",
       "      <td>[['Linda Church', '0.6784'], ['None', '0.3216']]</td>\n",
       "      <td>0.309</td>\n",
       "      <td>0.0</td>\n",
       "      <td>0.9231</td>\n",
       "      <td>2019</td>\n",
       "    </tr>\n",
       "    <tr>\n",
       "      <th>2181</th>\n",
       "      <td>2019-09-25-064241</td>\n",
       "      <td>more work is needed in terms of business actio...</td>\n",
       "      <td>Guido Barilla</td>\n",
       "      <td>['Q3779178']</td>\n",
       "      <td>2019-09-25 19:44:49</td>\n",
       "      <td>[['Guido Barilla', '0.7506'], ['None', '0.2345...</td>\n",
       "      <td>0.243</td>\n",
       "      <td>0.0</td>\n",
       "      <td>0.7717</td>\n",
       "      <td>2019</td>\n",
       "    </tr>\n",
       "  </tbody>\n",
       "</table>\n",
       "</div>"
      ],
      "text/plain": [
       "                      quoteID  \\\n",
       "Unnamed: 0                      \n",
       "271         2019-01-07-043005   \n",
       "748         2019-01-14-004682   \n",
       "1218        2019-03-28-008213   \n",
       "1933        2019-07-22-037315   \n",
       "2181        2019-09-25-064241   \n",
       "\n",
       "                                                    quotation  \\\n",
       "Unnamed: 0                                                      \n",
       "271         It [ the BAP ] primarily provides the strategi...   \n",
       "748         Ananth has played an important role in making ...   \n",
       "1218        As far as temperature forecasts in the coming ...   \n",
       "1933        Malcolm is the right person at the right time ...   \n",
       "2181        more work is needed in terms of business actio...   \n",
       "\n",
       "                     speaker           qids                 date  \\\n",
       "Unnamed: 0                                                         \n",
       "271                     None             []  2019-01-07 08:42:18   \n",
       "748         Ananth Narayanan  ['Q43384585']  2019-01-14 05:30:00   \n",
       "1218          Khalid Mehmood  ['Q24006135']  2019-03-28 14:05:53   \n",
       "1933            Linda Church   ['Q6551474']  2019-07-22 16:50:00   \n",
       "2181           Guido Barilla   ['Q3779178']  2019-09-25 19:44:49   \n",
       "\n",
       "                                                       probas  \\\n",
       "Unnamed: 0                                                      \n",
       "271         [['None', '0.9189'], ['Rodrigo Duterte', '0.08...   \n",
       "748         [['Ananth Narayanan', '0.6639'], ['None', '0.3...   \n",
       "1218        [['Khalid Mehmood', '0.5785'], ['None', '0.421...   \n",
       "1933         [['Linda Church', '0.6784'], ['None', '0.3216']]   \n",
       "2181        [['Guido Barilla', '0.7506'], ['None', '0.2345...   \n",
       "\n",
       "            positive scores  negative scores  compound scores  year  \n",
       "Unnamed: 0                                                           \n",
       "271                   0.094              0.0           0.3818  2019  \n",
       "748                   0.221              0.0           0.7003  2019  \n",
       "1218                  0.058              0.0           0.4194  2019  \n",
       "1933                  0.309              0.0           0.9231  2019  \n",
       "2181                  0.243              0.0           0.7717  2019  "
      ]
     },
     "execution_count": 21,
     "metadata": {},
     "output_type": "execute_result"
    }
   ],
   "source": [
    "gw_sent.head()"
   ]
  },
  {
   "cell_type": "code",
   "execution_count": 58,
   "id": "5dea48d8-9686-4677-be52-0a97e4f1953d",
   "metadata": {},
   "outputs": [
    {
     "data": {
      "image/png": "[encoded data removed]",
      "text/plain": [
       "<Figure size 432x288 with 1 Axes>"
      ]
     },
     "metadata": {
      "needs_background": "light"
     },
     "output_type": "display_data"
    }
   ],
   "source": [
    "plt.hist(gw_sent['positive scores'],label='positive', bins = 50)\n",
    "plt.hist(gw_sent['negative scores'],label='negative', bins = 50)\n",
    "plt.legend()\n",
    "plt.title('Sentimental probabilities distribution')\n",
    "None"
   ]
  },
  {
   "cell_type": "code",
   "execution_count": 55,
   "id": "5e3f1971-f2af-410f-adc7-09879ba1ae6f",
   "metadata": {},
   "outputs": [
    {
     "data": {
      "image/png": "[encoded data removed]",
      "text/plain": [
       "<Figure size 432x288 with 1 Axes>"
      ]
     },
     "metadata": {
      "needs_background": "light"
     },
     "output_type": "display_data"
    }
   ],
   "source": [
    "plt.hist(gw_sent['compound scores'],bins=70)\n",
    "plt.title('Distribution of compound score value')\n",
    "plt.xlabel('Compound score')\n",
    "plt.ylabel('Frequency')\n",
    "None"
   ]
  },
  {
   "cell_type": "code",
   "execution_count": 36,
   "id": "ed1c24d2-4e55-4eb3-b809-b756e748a6d1",
   "metadata": {},
   "outputs": [],
   "source": [
    "positive=gw_sent[gw_sent['compound scores']>=0.5]\n",
    "negative=gw_sent[gw_sent['compound scores']<=-0.5]\n",
    "neutral=gw_sent[(gw_sent['compound scores']>-0.5) & (gw_sent['compound scores']<0.5)]"
   ]
  },
  {
   "cell_type": "code",
   "execution_count": 65,
   "id": "124ef7b0-44a2-43aa-9a5f-bd8b3aa51808",
   "metadata": {},
   "outputs": [
    {
     "data": {
      "text/html": [
       "<div>\n",
       "<style scoped>\n",
       "    .dataframe tbody tr th:only-of-type {\n",
       "        vertical-align: middle;\n",
       "    }\n",
       "\n",
       "    .dataframe tbody tr th {\n",
       "        vertical-align: top;\n",
       "    }\n",
       "\n",
       "    .dataframe thead th {\n",
       "        text-align: right;\n",
       "    }\n",
       "</style>\n",
       "<table border=\"1\" class=\"dataframe\">\n",
       "  <thead>\n",
       "    <tr style=\"text-align: right;\">\n",
       "      <th></th>\n",
       "      <th>positive scores</th>\n",
       "      <th>negative scores</th>\n",
       "      <th>compound scores</th>\n",
       "    </tr>\n",
       "  </thead>\n",
       "  <tbody>\n",
       "    <tr>\n",
       "      <th>count</th>\n",
       "      <td>43941.000000</td>\n",
       "      <td>43941.000000</td>\n",
       "      <td>43941.000000</td>\n",
       "    </tr>\n",
       "    <tr>\n",
       "      <th>mean</th>\n",
       "      <td>0.070573</td>\n",
       "      <td>0.041440</td>\n",
       "      <td>0.082269</td>\n",
       "    </tr>\n",
       "    <tr>\n",
       "      <th>std</th>\n",
       "      <td>0.075071</td>\n",
       "      <td>0.061672</td>\n",
       "      <td>0.255363</td>\n",
       "    </tr>\n",
       "    <tr>\n",
       "      <th>min</th>\n",
       "      <td>0.000000</td>\n",
       "      <td>0.000000</td>\n",
       "      <td>-0.499700</td>\n",
       "    </tr>\n",
       "    <tr>\n",
       "      <th>25%</th>\n",
       "      <td>0.000000</td>\n",
       "      <td>0.000000</td>\n",
       "      <td>0.000000</td>\n",
       "    </tr>\n",
       "    <tr>\n",
       "      <th>50%</th>\n",
       "      <td>0.062000</td>\n",
       "      <td>0.000000</td>\n",
       "      <td>0.000000</td>\n",
       "    </tr>\n",
       "    <tr>\n",
       "      <th>75%</th>\n",
       "      <td>0.113000</td>\n",
       "      <td>0.076000</td>\n",
       "      <td>0.307100</td>\n",
       "    </tr>\n",
       "    <tr>\n",
       "      <th>max</th>\n",
       "      <td>0.586000</td>\n",
       "      <td>0.574000</td>\n",
       "      <td>0.499700</td>\n",
       "    </tr>\n",
       "  </tbody>\n",
       "</table>\n",
       "</div>"
      ],
      "text/plain": [
       "       positive scores  negative scores  compound scores\n",
       "count     43941.000000     43941.000000     43941.000000\n",
       "mean          0.070573         0.041440         0.082269\n",
       "std           0.075071         0.061672         0.255363\n",
       "min           0.000000         0.000000        -0.499700\n",
       "25%           0.000000         0.000000         0.000000\n",
       "50%           0.062000         0.000000         0.000000\n",
       "75%           0.113000         0.076000         0.307100\n",
       "max           0.586000         0.574000         0.499700"
      ]
     },
     "execution_count": 65,
     "metadata": {},
     "output_type": "execute_result"
    }
   ],
   "source": [
    "neutral.describe()"
   ]
  },
  {
   "cell_type": "code",
   "execution_count": 60,
   "id": "abfd7cd0-641e-4c5c-80d2-6eda13dedf02",
   "metadata": {},
   "outputs": [
    {
     "data": {
      "text/html": [
       "<div>\n",
       "<style scoped>\n",
       "    .dataframe tbody tr th:only-of-type {\n",
       "        vertical-align: middle;\n",
       "    }\n",
       "\n",
       "    .dataframe tbody tr th {\n",
       "        vertical-align: top;\n",
       "    }\n",
       "\n",
       "    .dataframe thead th {\n",
       "        text-align: right;\n",
       "    }\n",
       "</style>\n",
       "<table border=\"1\" class=\"dataframe\">\n",
       "  <thead>\n",
       "    <tr style=\"text-align: right;\">\n",
       "      <th></th>\n",
       "      <th>positive scores</th>\n",
       "      <th>negative scores</th>\n",
       "      <th>compound scores</th>\n",
       "    </tr>\n",
       "  </thead>\n",
       "  <tbody>\n",
       "    <tr>\n",
       "      <th>count</th>\n",
       "      <td>35841.000000</td>\n",
       "      <td>35841.000000</td>\n",
       "      <td>35841.000000</td>\n",
       "    </tr>\n",
       "    <tr>\n",
       "      <th>mean</th>\n",
       "      <td>0.218503</td>\n",
       "      <td>0.013451</td>\n",
       "      <td>0.770549</td>\n",
       "    </tr>\n",
       "    <tr>\n",
       "      <th>std</th>\n",
       "      <td>0.089275</td>\n",
       "      <td>0.026599</td>\n",
       "      <td>0.136642</td>\n",
       "    </tr>\n",
       "    <tr>\n",
       "      <th>min</th>\n",
       "      <td>0.027000</td>\n",
       "      <td>0.000000</td>\n",
       "      <td>0.500000</td>\n",
       "    </tr>\n",
       "    <tr>\n",
       "      <th>25%</th>\n",
       "      <td>0.154000</td>\n",
       "      <td>0.000000</td>\n",
       "      <td>0.659000</td>\n",
       "    </tr>\n",
       "    <tr>\n",
       "      <th>50%</th>\n",
       "      <td>0.205000</td>\n",
       "      <td>0.000000</td>\n",
       "      <td>0.784500</td>\n",
       "    </tr>\n",
       "    <tr>\n",
       "      <th>75%</th>\n",
       "      <td>0.268000</td>\n",
       "      <td>0.017000</td>\n",
       "      <td>0.888500</td>\n",
       "    </tr>\n",
       "    <tr>\n",
       "      <th>max</th>\n",
       "      <td>0.787000</td>\n",
       "      <td>0.210000</td>\n",
       "      <td>0.998800</td>\n",
       "    </tr>\n",
       "  </tbody>\n",
       "</table>\n",
       "</div>"
      ],
      "text/plain": [
       "       positive scores  negative scores  compound scores\n",
       "count     35841.000000     35841.000000     35841.000000\n",
       "mean          0.218503         0.013451         0.770549\n",
       "std           0.089275         0.026599         0.136642\n",
       "min           0.027000         0.000000         0.500000\n",
       "25%           0.154000         0.000000         0.659000\n",
       "50%           0.205000         0.000000         0.784500\n",
       "75%           0.268000         0.017000         0.888500\n",
       "max           0.787000         0.210000         0.998800"
      ]
     },
     "execution_count": 60,
     "metadata": {},
     "output_type": "execute_result"
    }
   ],
   "source": [
    "positive.describe()"
   ]
  },
  {
   "cell_type": "code",
   "execution_count": 61,
   "id": "e57dcf4f-c3b2-4654-ac00-bbee65d5af9f",
   "metadata": {},
   "outputs": [
    {
     "data": {
      "text/html": [
       "<div>\n",
       "<style scoped>\n",
       "    .dataframe tbody tr th:only-of-type {\n",
       "        vertical-align: middle;\n",
       "    }\n",
       "\n",
       "    .dataframe tbody tr th {\n",
       "        vertical-align: top;\n",
       "    }\n",
       "\n",
       "    .dataframe thead th {\n",
       "        text-align: right;\n",
       "    }\n",
       "</style>\n",
       "<table border=\"1\" class=\"dataframe\">\n",
       "  <thead>\n",
       "    <tr style=\"text-align: right;\">\n",
       "      <th></th>\n",
       "      <th>positive scores</th>\n",
       "      <th>negative scores</th>\n",
       "      <th>compound scores</th>\n",
       "    </tr>\n",
       "  </thead>\n",
       "  <tbody>\n",
       "    <tr>\n",
       "      <th>count</th>\n",
       "      <td>5581.000000</td>\n",
       "      <td>5581.000000</td>\n",
       "      <td>5581.000000</td>\n",
       "    </tr>\n",
       "    <tr>\n",
       "      <th>mean</th>\n",
       "      <td>0.034254</td>\n",
       "      <td>0.193315</td>\n",
       "      <td>-0.693088</td>\n",
       "    </tr>\n",
       "    <tr>\n",
       "      <th>std</th>\n",
       "      <td>0.042111</td>\n",
       "      <td>0.085202</td>\n",
       "      <td>0.125620</td>\n",
       "    </tr>\n",
       "    <tr>\n",
       "      <th>min</th>\n",
       "      <td>0.000000</td>\n",
       "      <td>0.028000</td>\n",
       "      <td>-0.998500</td>\n",
       "    </tr>\n",
       "    <tr>\n",
       "      <th>25%</th>\n",
       "      <td>0.000000</td>\n",
       "      <td>0.134000</td>\n",
       "      <td>-0.790600</td>\n",
       "    </tr>\n",
       "    <tr>\n",
       "      <th>50%</th>\n",
       "      <td>0.014000</td>\n",
       "      <td>0.178000</td>\n",
       "      <td>-0.680800</td>\n",
       "    </tr>\n",
       "    <tr>\n",
       "      <th>75%</th>\n",
       "      <td>0.061000</td>\n",
       "      <td>0.234000</td>\n",
       "      <td>-0.585900</td>\n",
       "    </tr>\n",
       "    <tr>\n",
       "      <th>max</th>\n",
       "      <td>0.275000</td>\n",
       "      <td>0.744000</td>\n",
       "      <td>-0.500000</td>\n",
       "    </tr>\n",
       "  </tbody>\n",
       "</table>\n",
       "</div>"
      ],
      "text/plain": [
       "       positive scores  negative scores  compound scores\n",
       "count      5581.000000      5581.000000      5581.000000\n",
       "mean          0.034254         0.193315        -0.693088\n",
       "std           0.042111         0.085202         0.125620\n",
       "min           0.000000         0.028000        -0.998500\n",
       "25%           0.000000         0.134000        -0.790600\n",
       "50%           0.014000         0.178000        -0.680800\n",
       "75%           0.061000         0.234000        -0.585900\n",
       "max           0.275000         0.744000        -0.500000"
      ]
     },
     "execution_count": 61,
     "metadata": {},
     "output_type": "execute_result"
    }
   ],
   "source": [
    "negative.describe()"
   ]
  },
  {
   "cell_type": "code",
   "execution_count": 66,
   "id": "a6ebdd5e-1637-4f19-858c-6bc0f3acca4b",
   "metadata": {},
   "outputs": [],
   "source": [
    "#TODO: Compare positive,neutral,negative by vizualization"
   ]
  },
  {
   "cell_type": "markdown",
   "id": "591050f7-730c-4d75-bea1-57d7af3cf672",
   "metadata": {
    "tags": []
   },
   "source": [
    "#### Analysis over the years"
   ]
  },
  {
   "cell_type": "markdown",
   "id": "133eeb6e-9d84-4806-89a4-78fe287f4db1",
   "metadata": {},
   "source": [
    "###### Global warming"
   ]
  },
  {
   "cell_type": "code",
   "execution_count": 90,
   "id": "1d3aaf3b-e1dc-45ac-8c43-bef0eb38d364",
   "metadata": {},
   "outputs": [
    {
     "data": {
      "image/png": "[encoded data removed]",
      "text/plain": [
       "<Figure size 1440x1440 with 6 Axes>"
      ]
     },
     "metadata": {
      "needs_background": "light"
     },
     "output_type": "display_data"
    }
   ],
   "source": [
    "fig, axs = plt.subplots(6,figsize=(20,20))\n",
    "for i in range(6):\n",
    "    s=str(2015+i)\n",
    "    axs[i].hist(gw_sent[gw_sent['year']==s]['compound scores'],bins=70)"
   ]
  },
  {
   "cell_type": "code",
   "execution_count": 89,
   "id": "d1774a3d-4e12-4e9a-a3b0-707da4379f2c",
   "metadata": {},
   "outputs": [
    {
     "data": {
      "text/html": [
       "<div>\n",
       "<style scoped>\n",
       "    .dataframe tbody tr th:only-of-type {\n",
       "        vertical-align: middle;\n",
       "    }\n",
       "\n",
       "    .dataframe tbody tr th {\n",
       "        vertical-align: top;\n",
       "    }\n",
       "\n",
       "    .dataframe thead th {\n",
       "        text-align: right;\n",
       "    }\n",
       "</style>\n",
       "<table border=\"1\" class=\"dataframe\">\n",
       "  <thead>\n",
       "    <tr style=\"text-align: right;\">\n",
       "      <th></th>\n",
       "      <th>quoteID</th>\n",
       "      <th>quotation</th>\n",
       "      <th>speaker</th>\n",
       "      <th>qids</th>\n",
       "      <th>date</th>\n",
       "      <th>probas</th>\n",
       "      <th>positive scores</th>\n",
       "      <th>negative scores</th>\n",
       "      <th>compound scores</th>\n",
       "    </tr>\n",
       "    <tr>\n",
       "      <th>year</th>\n",
       "      <th></th>\n",
       "      <th></th>\n",
       "      <th></th>\n",
       "      <th></th>\n",
       "      <th></th>\n",
       "      <th></th>\n",
       "      <th></th>\n",
       "      <th></th>\n",
       "      <th></th>\n",
       "    </tr>\n",
       "  </thead>\n",
       "  <tbody>\n",
       "    <tr>\n",
       "      <th>2018</th>\n",
       "      <td>27929</td>\n",
       "      <td>27929</td>\n",
       "      <td>27929</td>\n",
       "      <td>27929</td>\n",
       "      <td>27929</td>\n",
       "      <td>27929</td>\n",
       "      <td>27929</td>\n",
       "      <td>27929</td>\n",
       "      <td>27929</td>\n",
       "    </tr>\n",
       "    <tr>\n",
       "      <th>2019</th>\n",
       "      <td>35820</td>\n",
       "      <td>35820</td>\n",
       "      <td>35820</td>\n",
       "      <td>35820</td>\n",
       "      <td>35820</td>\n",
       "      <td>35820</td>\n",
       "      <td>35820</td>\n",
       "      <td>35820</td>\n",
       "      <td>35820</td>\n",
       "    </tr>\n",
       "    <tr>\n",
       "      <th>2020</th>\n",
       "      <td>21614</td>\n",
       "      <td>21614</td>\n",
       "      <td>21614</td>\n",
       "      <td>21614</td>\n",
       "      <td>21614</td>\n",
       "      <td>21614</td>\n",
       "      <td>21614</td>\n",
       "      <td>21614</td>\n",
       "      <td>21614</td>\n",
       "    </tr>\n",
       "  </tbody>\n",
       "</table>\n",
       "</div>"
      ],
      "text/plain": [
       "      quoteID  quotation  speaker   qids   date  probas  positive scores  \\\n",
       "year                                                                       \n",
       "2018    27929      27929    27929  27929  27929   27929            27929   \n",
       "2019    35820      35820    35820  35820  35820   35820            35820   \n",
       "2020    21614      21614    21614  21614  21614   21614            21614   \n",
       "\n",
       "      negative scores  compound scores  \n",
       "year                                    \n",
       "2018            27929            27929  \n",
       "2019            35820            35820  \n",
       "2020            21614            21614  "
      ]
     },
     "execution_count": 89,
     "metadata": {},
     "output_type": "execute_result"
    }
   ],
   "source": [
    "gw_sent.groupby('year').count()"
   ]
  },
  {
   "cell_type": "code",
   "execution_count": null,
   "id": "58e48e0f-177d-4481-bbfc-759bb61f3e0d",
   "metadata": {},
   "outputs": [],
   "source": []
  }
 ],
 "metadata": {
  "kernelspec": {
   "display_name": "Python [conda env:ada] *",
   "language": "python",
   "name": "conda-env-ada-py"
  },
  "language_info": {
   "codemirror_mode": {
    "name": "ipython",
    "version": 3
   },
   "file_extension": ".py",
   "mimetype": "text/x-python",
   "name": "python",
   "nbconvert_exporter": "python",
   "pygments_lexer": "ipython3",
   "version": "3.8.11"
  }
 },
 "nbformat": 4,
 "nbformat_minor": 5
}
