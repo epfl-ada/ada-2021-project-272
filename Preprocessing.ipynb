{
 "cells": [
  {
   "cell_type": "code",
   "execution_count": 42,
   "id": "c4c8c806-fcab-420e-8169-ed342d3a8818",
   "metadata": {},
   "outputs": [],
   "source": [
    "import pandas as pd\n",
    "import numpy as np\n",
    "import re"
   ]
  },
  {
   "cell_type": "code",
   "execution_count": 46,
   "id": "fcb1a307-d48e-430a-a8ea-930382661aae",
   "metadata": {},
   "outputs": [
    {
     "name": "stdout",
     "output_type": "stream",
     "text": [
      "Size of the cleaned dataframe is (13089, 5)\n"
     ]
    }
   ],
   "source": [
    "d=pd.read_csv('global_warming_2020.csv',index_col='Unnamed: 0')\n",
    "d['probas']=d['probas'].apply(lambda x: re.sub('[\\[\\]\\'\\s]','',x).split(','))\n",
    "d['pr']=d['probas'].apply(lambda x: [x[i] for i in range(len(x)) if i%2==1])\n",
    "d['au_pr']=d['probas'].apply(lambda x: [x[i] for i in range(len(x)) if i%2==0])\n",
    "d=d[d['pr'].apply(lambda x: all([len(x[i])>1  for i in range(len(x))]))].copy() #deleting empty probas\n",
    "d=d[d['pr'].apply(lambda x: all([x[i][0]=='0' for i in range(len(x))]))].copy() #deleting wrong parsed probas\n",
    "d=d[d['pr'].apply(lambda x: float(x[0])-float(x[1])>0.3)] #deleting uncertained authors\n",
    "d=d[d['speaker']!='None'].copy() #deleting None author\n",
    "df_out=d[['quotation','speaker','qids','numOccurrences','urls']] #leaving only usefull columns\n",
    "print('Size of the cleaned dataframe is',df_out.shape)"
   ]
  },
  {
   "cell_type": "code",
   "execution_count": 47,
   "id": "0cec8df7-b125-452c-8833-f66a4f538df1",
   "metadata": {},
   "outputs": [
    {
     "name": "stdout",
     "output_type": "stream",
     "text": [
      "Size of the dataframe with information about authors is (12167, 11)\n"
     ]
    }
   ],
   "source": [
    "#merging with information about speakers\n",
    "dff=pd.DataFrame()\n",
    "for i in range(0,16):\n",
    "    if i<10:\n",
    "        s='0'+str(i)\n",
    "    else:\n",
    "        s=str(i)\n",
    "    df=pd.read_parquet('speaker_attributes/part-000'+s+'-0d587965-3d8f-41ce-9771-5b8c9024dce9-c000.snappy.parquet')\n",
    "    dff=pd.concat([dff,df_out.merge(df[['gender', 'nationality', 'ethnic_group', 'academic_degree', 'religion','label']],how='left',left_on='speaker',right_on='label').dropna(subset=['gender'])]).copy()\n",
    "#getting final dataframe\n",
    "dff=dff.drop_duplicates(subset=['speaker','quotation']).copy()\n",
    "print('Size of the dataframe with information about authors is',dff.shape)"
   ]
  },
  {
   "cell_type": "code",
   "execution_count": 48,
   "id": "58d53ab6-b93b-499c-a245-920e4952b783",
   "metadata": {},
   "outputs": [
    {
     "data": {
      "text/html": [
       "<div>\n",
       "<style scoped>\n",
       "    .dataframe tbody tr th:only-of-type {\n",
       "        vertical-align: middle;\n",
       "    }\n",
       "\n",
       "    .dataframe tbody tr th {\n",
       "        vertical-align: top;\n",
       "    }\n",
       "\n",
       "    .dataframe thead th {\n",
       "        text-align: right;\n",
       "    }\n",
       "</style>\n",
       "<table border=\"1\" class=\"dataframe\">\n",
       "  <thead>\n",
       "    <tr style=\"text-align: right;\">\n",
       "      <th></th>\n",
       "      <th>quotation</th>\n",
       "      <th>speaker</th>\n",
       "      <th>qids</th>\n",
       "      <th>numOccurrences</th>\n",
       "      <th>urls</th>\n",
       "      <th>gender</th>\n",
       "      <th>nationality</th>\n",
       "      <th>ethnic_group</th>\n",
       "      <th>academic_degree</th>\n",
       "      <th>religion</th>\n",
       "      <th>label</th>\n",
       "    </tr>\n",
       "  </thead>\n",
       "  <tbody>\n",
       "    <tr>\n",
       "      <th>3</th>\n",
       "      <td>This budget also allows us to earmark £ 500,00...</td>\n",
       "      <td>John Whitehead</td>\n",
       "      <td>['Q55436000', 'Q58150131', 'Q6263827', 'Q62638...</td>\n",
       "      <td>1</td>\n",
       "      <td>['https://www.buryfreepress.co.uk/news/draft-b...</td>\n",
       "      <td>[Q6581097]</td>\n",
       "      <td>[Q30]</td>\n",
       "      <td>None</td>\n",
       "      <td>None</td>\n",
       "      <td>None</td>\n",
       "      <td>John Whitehead</td>\n",
       "    </tr>\n",
       "    <tr>\n",
       "      <th>7</th>\n",
       "      <td>would represent a significant increase in rene...</td>\n",
       "      <td>Tim Smith</td>\n",
       "      <td>['Q19519946', 'Q29568415', 'Q3528691', 'Q56853...</td>\n",
       "      <td>4</td>\n",
       "      <td>['https://www.sunjournal.com/2020/01/01/trump-...</td>\n",
       "      <td>[Q6581097]</td>\n",
       "      <td>[Q16]</td>\n",
       "      <td>None</td>\n",
       "      <td>None</td>\n",
       "      <td>None</td>\n",
       "      <td>Tim Smith</td>\n",
       "    </tr>\n",
       "    <tr>\n",
       "      <th>12</th>\n",
       "      <td>Make the federal commitment to fund public tra...</td>\n",
       "      <td>Catherine McKenna</td>\n",
       "      <td>['Q21335996']</td>\n",
       "      <td>2</td>\n",
       "      <td>['https://rabble.ca/blogs/bloggers/david-suzuk...</td>\n",
       "      <td>[Q6581072]</td>\n",
       "      <td>[Q16]</td>\n",
       "      <td>None</td>\n",
       "      <td>None</td>\n",
       "      <td>None</td>\n",
       "      <td>Catherine McKenna</td>\n",
       "    </tr>\n",
       "    <tr>\n",
       "      <th>13</th>\n",
       "      <td>That's pretty much the same picture globally. ...</td>\n",
       "      <td>Chris Wright</td>\n",
       "      <td>['Q18347494', 'Q23303387', 'Q2964899', 'Q30612...</td>\n",
       "      <td>2</td>\n",
       "      <td>['https://www.duluthnewstribune.com/news/gover...</td>\n",
       "      <td>[Q6581097]</td>\n",
       "      <td>[Q30]</td>\n",
       "      <td>None</td>\n",
       "      <td>None</td>\n",
       "      <td>None</td>\n",
       "      <td>Chris Wright</td>\n",
       "    </tr>\n",
       "    <tr>\n",
       "      <th>14</th>\n",
       "      <td>The proposed Thal Sena Bhawan will bring all A...</td>\n",
       "      <td>Manoj Mukund Naravane</td>\n",
       "      <td>['Q44633840']</td>\n",
       "      <td>1</td>\n",
       "      <td>['https://www.thehindu.com/news/national/army-...</td>\n",
       "      <td>[Q6581097]</td>\n",
       "      <td>None</td>\n",
       "      <td>None</td>\n",
       "      <td>None</td>\n",
       "      <td>None</td>\n",
       "      <td>Manoj Mukund Naravane</td>\n",
       "    </tr>\n",
       "  </tbody>\n",
       "</table>\n",
       "</div>"
      ],
      "text/plain": [
       "                                            quotation                speaker  \\\n",
       "3   This budget also allows us to earmark £ 500,00...         John Whitehead   \n",
       "7   would represent a significant increase in rene...              Tim Smith   \n",
       "12  Make the federal commitment to fund public tra...      Catherine McKenna   \n",
       "13  That's pretty much the same picture globally. ...           Chris Wright   \n",
       "14  The proposed Thal Sena Bhawan will bring all A...  Manoj Mukund Naravane   \n",
       "\n",
       "                                                 qids  numOccurrences  \\\n",
       "3   ['Q55436000', 'Q58150131', 'Q6263827', 'Q62638...               1   \n",
       "7   ['Q19519946', 'Q29568415', 'Q3528691', 'Q56853...               4   \n",
       "12                                      ['Q21335996']               2   \n",
       "13  ['Q18347494', 'Q23303387', 'Q2964899', 'Q30612...               2   \n",
       "14                                      ['Q44633840']               1   \n",
       "\n",
       "                                                 urls      gender nationality  \\\n",
       "3   ['https://www.buryfreepress.co.uk/news/draft-b...  [Q6581097]       [Q30]   \n",
       "7   ['https://www.sunjournal.com/2020/01/01/trump-...  [Q6581097]       [Q16]   \n",
       "12  ['https://rabble.ca/blogs/bloggers/david-suzuk...  [Q6581072]       [Q16]   \n",
       "13  ['https://www.duluthnewstribune.com/news/gover...  [Q6581097]       [Q30]   \n",
       "14  ['https://www.thehindu.com/news/national/army-...  [Q6581097]        None   \n",
       "\n",
       "   ethnic_group academic_degree religion                  label  \n",
       "3          None            None     None         John Whitehead  \n",
       "7          None            None     None              Tim Smith  \n",
       "12         None            None     None      Catherine McKenna  \n",
       "13         None            None     None           Chris Wright  \n",
       "14         None            None     None  Manoj Mukund Naravane  "
      ]
     },
     "execution_count": 48,
     "metadata": {},
     "output_type": "execute_result"
    }
   ],
   "source": [
    "#final dataframe\n",
    "dff.head()"
   ]
  },
  {
   "cell_type": "code",
   "execution_count": null,
   "id": "acdd2653-85ba-41d3-810d-3ed474e2e6dd",
   "metadata": {},
   "outputs": [],
   "source": []
  }
 ],
 "metadata": {
  "kernelspec": {
   "display_name": "Python [conda env:ada] *",
   "language": "python",
   "name": "conda-env-ada-py"
  },
  "language_info": {
   "codemirror_mode": {
    "name": "ipython",
    "version": 3
   },
   "file_extension": ".py",
   "mimetype": "text/x-python",
   "name": "python",
   "nbconvert_exporter": "python",
   "pygments_lexer": "ipython3",
   "version": "3.8.11"
  }
 },
 "nbformat": 4,
 "nbformat_minor": 5
}
