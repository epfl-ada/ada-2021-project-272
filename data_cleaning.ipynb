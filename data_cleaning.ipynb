{
 "cells": [
  {
   "cell_type": "code",
   "execution_count": 1,
   "metadata": {},
   "outputs": [],
   "source": [
    "import bz2\n",
    "import json\n",
    "import pandas as pd\n",
    "import numpy as np\n",
    "from preprocessing import *\n",
    "\n",
    "path_to_file = './data/Quotebank/quotes-2020.json.bz2'\n",
    "path_to_out = './data/quotes-2020-cleaned.csv.bz2'"
   ]
  },
  {
   "cell_type": "code",
   "execution_count": 8,
   "metadata": {},
   "outputs": [],
   "source": [
    "with pd.read_json(path_to_file, lines=True, compression='bz2', chunksize=1_000_000) as df_reader:\n",
    "  for chunk in df_reader:\n",
    "    chunk = delete_non_complete_entries(chunk)\n",
    "    chunk = delete_duplicates(chunk)\n",
    "    chunk = chunk.to_csv(path_to_out, mode='a', compression='bz2')\n",
    "    \n",
    "      \n",
    "        \n"
   ]
  }
 ],
 "metadata": {
  "interpreter": {
   "hash": "307e4c64a5562ce085c7787bb63dd278f36c91ee1d52e9ea0e535ae83e833dae"
  },
  "kernelspec": {
   "display_name": "Python 3.8.10 64-bit (windows store)",
   "language": "python",
   "name": "python3"
  },
  "language_info": {
   "codemirror_mode": {
    "name": "ipython",
    "version": 3
   },
   "file_extension": ".py",
   "mimetype": "text/x-python",
   "name": "python",
   "nbconvert_exporter": "python",
   "pygments_lexer": "ipython3",
   "version": "3.8.10"
  },
  "orig_nbformat": 4
 },
 "nbformat": 4,
 "nbformat_minor": 2
}
