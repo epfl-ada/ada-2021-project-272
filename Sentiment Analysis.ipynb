{
 "cells": [
  {
   "cell_type": "code",
   "execution_count": 2,
   "metadata": {},
   "outputs": [
    {
     "name": "stdout",
     "output_type": "stream",
     "text": [
      "Collecting vaderSentiment\n",
      "  Downloading vaderSentiment-3.3.2-py2.py3-none-any.whl (125 kB)\n",
      "\u001b[K     |████████████████████████████████| 125 kB 5.2 MB/s eta 0:00:01\n",
      "\u001b[?25hRequirement already satisfied: requests in /opt/anaconda3/lib/python3.7/site-packages (from vaderSentiment) (2.24.0)\n",
      "Requirement already satisfied: certifi>=2017.4.17 in /opt/anaconda3/lib/python3.7/site-packages (from requests->vaderSentiment) (2020.6.20)\n",
      "Requirement already satisfied: urllib3!=1.25.0,!=1.25.1,<1.26,>=1.21.1 in /opt/anaconda3/lib/python3.7/site-packages (from requests->vaderSentiment) (1.25.11)\n",
      "Requirement already satisfied: idna<3,>=2.5 in /opt/anaconda3/lib/python3.7/site-packages (from requests->vaderSentiment) (2.10)\n",
      "Requirement already satisfied: chardet<4,>=3.0.2 in /opt/anaconda3/lib/python3.7/site-packages (from requests->vaderSentiment) (3.0.4)\n",
      "Installing collected packages: vaderSentiment\n",
      "Successfully installed vaderSentiment-3.3.2\n",
      "\u001b[33mWARNING: You are using pip version 20.2.4; however, version 21.3.1 is available.\n",
      "You should consider upgrading via the '/opt/anaconda3/bin/python -m pip install --upgrade pip' command.\u001b[0m\n",
      "Note: you may need to restart the kernel to use updated packages.\n"
     ]
    }
   ],
   "source": [
    "pip install vaderSentiment"
   ]
  },
  {
   "cell_type": "code",
   "execution_count": 1,
   "metadata": {},
   "outputs": [],
   "source": [
    "# Sentiment Analysis\n",
    "import vaderSentiment \n",
    "from vaderSentiment.vaderSentiment import SentimentIntensityAnalyzer\n",
    "\n",
    "import pandas as pd\n",
    "import matplotlib.pyplot as plt"
   ]
  },
  {
   "cell_type": "markdown",
   "metadata": {},
   "source": [
    "## Abortion"
   ]
  },
  {
   "cell_type": "code",
   "execution_count": 151,
   "metadata": {},
   "outputs": [
    {
     "data": {
      "text/html": [
       "<div>\n",
       "<style scoped>\n",
       "    .dataframe tbody tr th:only-of-type {\n",
       "        vertical-align: middle;\n",
       "    }\n",
       "\n",
       "    .dataframe tbody tr th {\n",
       "        vertical-align: top;\n",
       "    }\n",
       "\n",
       "    .dataframe thead th {\n",
       "        text-align: right;\n",
       "    }\n",
       "</style>\n",
       "<table border=\"1\" class=\"dataframe\">\n",
       "  <thead>\n",
       "    <tr style=\"text-align: right;\">\n",
       "      <th></th>\n",
       "      <th>Unnamed: 0</th>\n",
       "      <th>quoteID</th>\n",
       "      <th>quotation</th>\n",
       "      <th>speaker</th>\n",
       "      <th>qids</th>\n",
       "      <th>date</th>\n",
       "      <th>numOccurrences</th>\n",
       "      <th>probas</th>\n",
       "      <th>urls</th>\n",
       "      <th>phase</th>\n",
       "    </tr>\n",
       "  </thead>\n",
       "  <tbody>\n",
       "    <tr>\n",
       "      <td>0</td>\n",
       "      <td>1400011</td>\n",
       "      <td>2015-12-09-139783</td>\n",
       "      <td>will push for energy development, beefed-up la...</td>\n",
       "      <td>Victor Davis Hanson</td>\n",
       "      <td>['Q1276395']</td>\n",
       "      <td>2015-12-09 06:33:51</td>\n",
       "      <td>3</td>\n",
       "      <td>[['Victor Davis Hanson', '0.7887'], ['None', '...</td>\n",
       "      <td>['http://breitbart.com/california/2015/12/09/r...</td>\n",
       "      <td>E</td>\n",
       "    </tr>\n",
       "    <tr>\n",
       "      <td>1</td>\n",
       "      <td>1401214</td>\n",
       "      <td>2015-09-04-095700</td>\n",
       "      <td>The revered Mother Teresa, who works in the st...</td>\n",
       "      <td>None</td>\n",
       "      <td>[]</td>\n",
       "      <td>2015-09-04 21:09:20</td>\n",
       "      <td>3</td>\n",
       "      <td>[['None', '0.8472'], ['Al Gore', '0.0952'], ['...</td>\n",
       "      <td>['http://www.wnd.com/2015/09/this-is-the-great...</td>\n",
       "      <td>E</td>\n",
       "    </tr>\n",
       "    <tr>\n",
       "      <td>2</td>\n",
       "      <td>1404392</td>\n",
       "      <td>2015-05-13-068629</td>\n",
       "      <td>We got done and she was standing on her head i...</td>\n",
       "      <td>Dennis Rodman</td>\n",
       "      <td>['Q201608']</td>\n",
       "      <td>2015-05-13 16:50:41</td>\n",
       "      <td>2</td>\n",
       "      <td>[['Dennis Rodman', '0.6836'], ['Carmen Electra...</td>\n",
       "      <td>['http://uproxx.com/dimemag/2015/05/all-the-cr...</td>\n",
       "      <td>E</td>\n",
       "    </tr>\n",
       "    <tr>\n",
       "      <td>3</td>\n",
       "      <td>1406420</td>\n",
       "      <td>2015-01-09-091216</td>\n",
       "      <td>while African Americans make up just 13 percen...</td>\n",
       "      <td>None</td>\n",
       "      <td>[]</td>\n",
       "      <td>2015-01-09 23:38:13</td>\n",
       "      <td>1</td>\n",
       "      <td>[['None', '0.9263'], ['Alveda King', '0.0737']]</td>\n",
       "      <td>['http://www.westernjournalism.com/martin-luth...</td>\n",
       "      <td>E</td>\n",
       "    </tr>\n",
       "    <tr>\n",
       "      <td>4</td>\n",
       "      <td>1409432</td>\n",
       "      <td>2015-09-23-016630</td>\n",
       "      <td>Conservatives worry about the way he seems to ...</td>\n",
       "      <td>Robert Royal</td>\n",
       "      <td>['Q7349412', 'Q7349413']</td>\n",
       "      <td>2015-09-23 16:35:22</td>\n",
       "      <td>1</td>\n",
       "      <td>[['Robert Royal', '0.8235'], ['None', '0.1318'...</td>\n",
       "      <td>['http://hotair.com/headlines/archives/2015/09...</td>\n",
       "      <td>E</td>\n",
       "    </tr>\n",
       "  </tbody>\n",
       "</table>\n",
       "</div>"
      ],
      "text/plain": [
       "   Unnamed: 0            quoteID  \\\n",
       "0     1400011  2015-12-09-139783   \n",
       "1     1401214  2015-09-04-095700   \n",
       "2     1404392  2015-05-13-068629   \n",
       "3     1406420  2015-01-09-091216   \n",
       "4     1409432  2015-09-23-016630   \n",
       "\n",
       "                                           quotation              speaker  \\\n",
       "0  will push for energy development, beefed-up la...  Victor Davis Hanson   \n",
       "1  The revered Mother Teresa, who works in the st...                 None   \n",
       "2  We got done and she was standing on her head i...        Dennis Rodman   \n",
       "3  while African Americans make up just 13 percen...                 None   \n",
       "4  Conservatives worry about the way he seems to ...         Robert Royal   \n",
       "\n",
       "                       qids                 date  numOccurrences  \\\n",
       "0              ['Q1276395']  2015-12-09 06:33:51               3   \n",
       "1                        []  2015-09-04 21:09:20               3   \n",
       "2               ['Q201608']  2015-05-13 16:50:41               2   \n",
       "3                        []  2015-01-09 23:38:13               1   \n",
       "4  ['Q7349412', 'Q7349413']  2015-09-23 16:35:22               1   \n",
       "\n",
       "                                              probas  \\\n",
       "0  [['Victor Davis Hanson', '0.7887'], ['None', '...   \n",
       "1  [['None', '0.8472'], ['Al Gore', '0.0952'], ['...   \n",
       "2  [['Dennis Rodman', '0.6836'], ['Carmen Electra...   \n",
       "3    [['None', '0.9263'], ['Alveda King', '0.0737']]   \n",
       "4  [['Robert Royal', '0.8235'], ['None', '0.1318'...   \n",
       "\n",
       "                                                urls phase  \n",
       "0  ['http://breitbart.com/california/2015/12/09/r...     E  \n",
       "1  ['http://www.wnd.com/2015/09/this-is-the-great...     E  \n",
       "2  ['http://uproxx.com/dimemag/2015/05/all-the-cr...     E  \n",
       "3  ['http://www.westernjournalism.com/martin-luth...     E  \n",
       "4  ['http://hotair.com/headlines/archives/2015/09...     E  "
      ]
     },
     "execution_count": 151,
     "metadata": {},
     "output_type": "execute_result"
    }
   ],
   "source": [
    "# load data\n",
    "path_to_file = 'Abortion/abortion.csv'\n",
    "\n",
    "df_ab = pd.read_csv(path_to_file)\n",
    "\n",
    "df.head()"
   ]
  },
  {
   "cell_type": "code",
   "execution_count": 152,
   "metadata": {},
   "outputs": [
    {
     "data": {
      "text/html": [
       "<div>\n",
       "<style scoped>\n",
       "    .dataframe tbody tr th:only-of-type {\n",
       "        vertical-align: middle;\n",
       "    }\n",
       "\n",
       "    .dataframe tbody tr th {\n",
       "        vertical-align: top;\n",
       "    }\n",
       "\n",
       "    .dataframe thead th {\n",
       "        text-align: right;\n",
       "    }\n",
       "</style>\n",
       "<table border=\"1\" class=\"dataframe\">\n",
       "  <thead>\n",
       "    <tr style=\"text-align: right;\">\n",
       "      <th></th>\n",
       "      <th>Unnamed: 0</th>\n",
       "      <th>quoteID</th>\n",
       "      <th>quotation</th>\n",
       "      <th>speaker</th>\n",
       "      <th>qids</th>\n",
       "      <th>date</th>\n",
       "      <th>probas</th>\n",
       "    </tr>\n",
       "  </thead>\n",
       "  <tbody>\n",
       "    <tr>\n",
       "      <td>0</td>\n",
       "      <td>1400011</td>\n",
       "      <td>2015-12-09-139783</td>\n",
       "      <td>will push for energy development, beefed-up la...</td>\n",
       "      <td>Victor Davis Hanson</td>\n",
       "      <td>['Q1276395']</td>\n",
       "      <td>2015-12-09 06:33:51</td>\n",
       "      <td>[['Victor Davis Hanson', '0.7887'], ['None', '...</td>\n",
       "    </tr>\n",
       "    <tr>\n",
       "      <td>1</td>\n",
       "      <td>1401214</td>\n",
       "      <td>2015-09-04-095700</td>\n",
       "      <td>The revered Mother Teresa, who works in the st...</td>\n",
       "      <td>None</td>\n",
       "      <td>[]</td>\n",
       "      <td>2015-09-04 21:09:20</td>\n",
       "      <td>[['None', '0.8472'], ['Al Gore', '0.0952'], ['...</td>\n",
       "    </tr>\n",
       "    <tr>\n",
       "      <td>2</td>\n",
       "      <td>1404392</td>\n",
       "      <td>2015-05-13-068629</td>\n",
       "      <td>We got done and she was standing on her head i...</td>\n",
       "      <td>Dennis Rodman</td>\n",
       "      <td>['Q201608']</td>\n",
       "      <td>2015-05-13 16:50:41</td>\n",
       "      <td>[['Dennis Rodman', '0.6836'], ['Carmen Electra...</td>\n",
       "    </tr>\n",
       "    <tr>\n",
       "      <td>3</td>\n",
       "      <td>1406420</td>\n",
       "      <td>2015-01-09-091216</td>\n",
       "      <td>while African Americans make up just 13 percen...</td>\n",
       "      <td>None</td>\n",
       "      <td>[]</td>\n",
       "      <td>2015-01-09 23:38:13</td>\n",
       "      <td>[['None', '0.9263'], ['Alveda King', '0.0737']]</td>\n",
       "    </tr>\n",
       "    <tr>\n",
       "      <td>4</td>\n",
       "      <td>1409432</td>\n",
       "      <td>2015-09-23-016630</td>\n",
       "      <td>Conservatives worry about the way he seems to ...</td>\n",
       "      <td>Robert Royal</td>\n",
       "      <td>['Q7349412', 'Q7349413']</td>\n",
       "      <td>2015-09-23 16:35:22</td>\n",
       "      <td>[['Robert Royal', '0.8235'], ['None', '0.1318'...</td>\n",
       "    </tr>\n",
       "  </tbody>\n",
       "</table>\n",
       "</div>"
      ],
      "text/plain": [
       "   Unnamed: 0            quoteID  \\\n",
       "0     1400011  2015-12-09-139783   \n",
       "1     1401214  2015-09-04-095700   \n",
       "2     1404392  2015-05-13-068629   \n",
       "3     1406420  2015-01-09-091216   \n",
       "4     1409432  2015-09-23-016630   \n",
       "\n",
       "                                           quotation              speaker  \\\n",
       "0  will push for energy development, beefed-up la...  Victor Davis Hanson   \n",
       "1  The revered Mother Teresa, who works in the st...                 None   \n",
       "2  We got done and she was standing on her head i...        Dennis Rodman   \n",
       "3  while African Americans make up just 13 percen...                 None   \n",
       "4  Conservatives worry about the way he seems to ...         Robert Royal   \n",
       "\n",
       "                       qids                 date  \\\n",
       "0              ['Q1276395']  2015-12-09 06:33:51   \n",
       "1                        []  2015-09-04 21:09:20   \n",
       "2               ['Q201608']  2015-05-13 16:50:41   \n",
       "3                        []  2015-01-09 23:38:13   \n",
       "4  ['Q7349412', 'Q7349413']  2015-09-23 16:35:22   \n",
       "\n",
       "                                              probas  \n",
       "0  [['Victor Davis Hanson', '0.7887'], ['None', '...  \n",
       "1  [['None', '0.8472'], ['Al Gore', '0.0952'], ['...  \n",
       "2  [['Dennis Rodman', '0.6836'], ['Carmen Electra...  \n",
       "3    [['None', '0.9263'], ['Alveda King', '0.0737']]  \n",
       "4  [['Robert Royal', '0.8235'], ['None', '0.1318'...  "
      ]
     },
     "execution_count": 152,
     "metadata": {},
     "output_type": "execute_result"
    }
   ],
   "source": [
    "# delete columns\n",
    "df_ab.__delitem__('numOccurrences')\n",
    "df_ab.__delitem__('urls')\n",
    "df_ab.__delitem__('phase')\n",
    "\n",
    "df_ab.head()"
   ]
  },
  {
   "cell_type": "code",
   "execution_count": 153,
   "metadata": {
    "scrolled": false
   },
   "outputs": [
    {
     "name": "stdout",
     "output_type": "stream",
     "text": [
      "\n"
     ]
    }
   ],
   "source": [
    "# initializing the analyzer\n",
    "analyzer = SentimentIntensityAnalyzer()\n",
    "\n",
    "\n",
    "# sentiments\n",
    "positive_sent_ab = []\n",
    "negative_sent_ab = []\n",
    "total_sent_ab = []\n",
    "\n",
    "[positive_sent_ab.append(analyzer.polarity_scores(quote)['pos']) for quote in df_ab['quotation']]\n",
    "[negative_sent_ab.append(analyzer.polarity_scores(quote)['neg']) for quote in df_ab['quotation']]\n",
    "[total_sent_ab.append(analyzer.polarity_scores(quote)['compound']) for quote in df_ab['quotation']]\n",
    "\n",
    "print()"
   ]
  },
  {
   "cell_type": "code",
   "execution_count": 115,
   "metadata": {},
   "outputs": [
    {
     "data": {
      "text/plain": [
       "(0, 1)"
      ]
     },
     "execution_count": 115,
     "metadata": {},
     "output_type": "execute_result"
    },
    {
     "data": {
      "image/png": "[encoded data removed]",
      "text/plain": [
       "<Figure size 432x288 with 1 Axes>"
      ]
     },
     "metadata": {
      "needs_background": "light"
     },
     "output_type": "display_data"
    }
   ],
   "source": [
    "plt.hist(positive_sent_ab, bins = 50)\n",
    "plt.xlim([0,1])"
   ]
  },
  {
   "cell_type": "code",
   "execution_count": 116,
   "metadata": {},
   "outputs": [
    {
     "data": {
      "text/plain": [
       "(0, 1)"
      ]
     },
     "execution_count": 116,
     "metadata": {},
     "output_type": "execute_result"
    },
    {
     "data": {
      "image/png": "[encoded data removed]",
      "text/plain": [
       "<Figure size 432x288 with 1 Axes>"
      ]
     },
     "metadata": {
      "needs_background": "light"
     },
     "output_type": "display_data"
    }
   ],
   "source": [
    "plt.hist(negative_sent_ab, bins = 50)\n",
    "plt.xlim([0,1])"
   ]
  },
  {
   "cell_type": "code",
   "execution_count": 117,
   "metadata": {},
   "outputs": [
    {
     "data": {
      "text/plain": [
       "(-1, 1)"
      ]
     },
     "execution_count": 117,
     "metadata": {},
     "output_type": "execute_result"
    },
    {
     "data": {
      "image/png": "[encoded data removed]",
      "text/plain": [
       "<Figure size 432x288 with 1 Axes>"
      ]
     },
     "metadata": {
      "needs_background": "light"
     },
     "output_type": "display_data"
    }
   ],
   "source": [
    "\n",
    "plt.hist(total_sent_ab, bins = 50)\n",
    "plt.xlim([-1,1])"
   ]
  },
  {
   "cell_type": "code",
   "execution_count": 154,
   "metadata": {},
   "outputs": [
    {
     "data": {
      "text/html": [
       "<div>\n",
       "<style scoped>\n",
       "    .dataframe tbody tr th:only-of-type {\n",
       "        vertical-align: middle;\n",
       "    }\n",
       "\n",
       "    .dataframe tbody tr th {\n",
       "        vertical-align: top;\n",
       "    }\n",
       "\n",
       "    .dataframe thead th {\n",
       "        text-align: right;\n",
       "    }\n",
       "</style>\n",
       "<table border=\"1\" class=\"dataframe\">\n",
       "  <thead>\n",
       "    <tr style=\"text-align: right;\">\n",
       "      <th></th>\n",
       "      <th>Unnamed: 0</th>\n",
       "      <th>quoteID</th>\n",
       "      <th>quotation</th>\n",
       "      <th>speaker</th>\n",
       "      <th>qids</th>\n",
       "      <th>date</th>\n",
       "      <th>probas</th>\n",
       "      <th>positive scores</th>\n",
       "      <th>negative scores</th>\n",
       "      <th>compound scores</th>\n",
       "    </tr>\n",
       "  </thead>\n",
       "  <tbody>\n",
       "    <tr>\n",
       "      <td>0</td>\n",
       "      <td>1400011</td>\n",
       "      <td>2015-12-09-139783</td>\n",
       "      <td>will push for energy development, beefed-up la...</td>\n",
       "      <td>Victor Davis Hanson</td>\n",
       "      <td>['Q1276395']</td>\n",
       "      <td>2015-12-09 06:33:51</td>\n",
       "      <td>[['Victor Davis Hanson', '0.7887'], ['None', '...</td>\n",
       "      <td>0.064</td>\n",
       "      <td>0.104</td>\n",
       "      <td>-0.5719</td>\n",
       "    </tr>\n",
       "    <tr>\n",
       "      <td>1</td>\n",
       "      <td>1401214</td>\n",
       "      <td>2015-09-04-095700</td>\n",
       "      <td>The revered Mother Teresa, who works in the st...</td>\n",
       "      <td>None</td>\n",
       "      <td>[]</td>\n",
       "      <td>2015-09-04 21:09:20</td>\n",
       "      <td>[['None', '0.8472'], ['Al Gore', '0.0952'], ['...</td>\n",
       "      <td>0.169</td>\n",
       "      <td>0.065</td>\n",
       "      <td>0.8350</td>\n",
       "    </tr>\n",
       "    <tr>\n",
       "      <td>2</td>\n",
       "      <td>1404392</td>\n",
       "      <td>2015-05-13-068629</td>\n",
       "      <td>We got done and she was standing on her head i...</td>\n",
       "      <td>Dennis Rodman</td>\n",
       "      <td>['Q201608']</td>\n",
       "      <td>2015-05-13 16:50:41</td>\n",
       "      <td>[['Dennis Rodman', '0.6836'], ['Carmen Electra...</td>\n",
       "      <td>0.124</td>\n",
       "      <td>0.000</td>\n",
       "      <td>0.6249</td>\n",
       "    </tr>\n",
       "    <tr>\n",
       "      <td>3</td>\n",
       "      <td>1406420</td>\n",
       "      <td>2015-01-09-091216</td>\n",
       "      <td>while African Americans make up just 13 percen...</td>\n",
       "      <td>None</td>\n",
       "      <td>[]</td>\n",
       "      <td>2015-01-09 23:38:13</td>\n",
       "      <td>[['None', '0.9263'], ['Alveda King', '0.0737']]</td>\n",
       "      <td>0.000</td>\n",
       "      <td>0.000</td>\n",
       "      <td>0.0000</td>\n",
       "    </tr>\n",
       "    <tr>\n",
       "      <td>4</td>\n",
       "      <td>1409432</td>\n",
       "      <td>2015-09-23-016630</td>\n",
       "      <td>Conservatives worry about the way he seems to ...</td>\n",
       "      <td>Robert Royal</td>\n",
       "      <td>['Q7349412', 'Q7349413']</td>\n",
       "      <td>2015-09-23 16:35:22</td>\n",
       "      <td>[['Robert Royal', '0.8235'], ['None', '0.1318'...</td>\n",
       "      <td>0.092</td>\n",
       "      <td>0.249</td>\n",
       "      <td>-0.6486</td>\n",
       "    </tr>\n",
       "  </tbody>\n",
       "</table>\n",
       "</div>"
      ],
      "text/plain": [
       "   Unnamed: 0            quoteID  \\\n",
       "0     1400011  2015-12-09-139783   \n",
       "1     1401214  2015-09-04-095700   \n",
       "2     1404392  2015-05-13-068629   \n",
       "3     1406420  2015-01-09-091216   \n",
       "4     1409432  2015-09-23-016630   \n",
       "\n",
       "                                           quotation              speaker  \\\n",
       "0  will push for energy development, beefed-up la...  Victor Davis Hanson   \n",
       "1  The revered Mother Teresa, who works in the st...                 None   \n",
       "2  We got done and she was standing on her head i...        Dennis Rodman   \n",
       "3  while African Americans make up just 13 percen...                 None   \n",
       "4  Conservatives worry about the way he seems to ...         Robert Royal   \n",
       "\n",
       "                       qids                 date  \\\n",
       "0              ['Q1276395']  2015-12-09 06:33:51   \n",
       "1                        []  2015-09-04 21:09:20   \n",
       "2               ['Q201608']  2015-05-13 16:50:41   \n",
       "3                        []  2015-01-09 23:38:13   \n",
       "4  ['Q7349412', 'Q7349413']  2015-09-23 16:35:22   \n",
       "\n",
       "                                              probas  positive scores  \\\n",
       "0  [['Victor Davis Hanson', '0.7887'], ['None', '...            0.064   \n",
       "1  [['None', '0.8472'], ['Al Gore', '0.0952'], ['...            0.169   \n",
       "2  [['Dennis Rodman', '0.6836'], ['Carmen Electra...            0.124   \n",
       "3    [['None', '0.9263'], ['Alveda King', '0.0737']]            0.000   \n",
       "4  [['Robert Royal', '0.8235'], ['None', '0.1318'...            0.092   \n",
       "\n",
       "   negative scores  compound scores  \n",
       "0            0.104          -0.5719  \n",
       "1            0.065           0.8350  \n",
       "2            0.000           0.6249  \n",
       "3            0.000           0.0000  \n",
       "4            0.249          -0.6486  "
      ]
     },
     "execution_count": 154,
     "metadata": {},
     "output_type": "execute_result"
    }
   ],
   "source": [
    "# add sentiment columns\n",
    "df_ab['positive scores'] =  positive_sent_ab\n",
    "df_ab['negative scores'] =  negative_sent_ab\n",
    "df_ab['compound scores'] =  total_sent_ab\n",
    "df_ab.head()"
   ]
  },
  {
   "cell_type": "code",
   "execution_count": 155,
   "metadata": {},
   "outputs": [
    {
     "name": "stdout",
     "output_type": "stream",
     "text": [
      "number of positive sent:  14568\n",
      "number of negative sent:  10997\n",
      "number of neutral sent:  6802\n"
     ]
    }
   ],
   "source": [
    "# print total number of positive, negative and neutral quotes\n",
    "print('number of positive sent: ', sum(np.array(total_sent_ab)>= 0.05))\n",
    "print('number of negative sent: ', sum(np.array(total_sent_ab)<= -0.05))\n",
    "print('number of neutral sent: ', sum(np.abs(np.array(total_sent_ab))<= 0.05))"
   ]
  },
  {
   "cell_type": "code",
   "execution_count": 164,
   "metadata": {},
   "outputs": [
    {
     "name": "stdout",
     "output_type": "stream",
     "text": [
      "average positive score: 0.7284923711619181\n",
      "average negative score:  -0.7229551064991822\n",
      "average neutral score:  0.029612791294528183\n"
     ]
    }
   ],
   "source": [
    "# calculate average positive, negative and neutral scores\n",
    "mean_pos_ab = df_ab[df_ab['compound scores']>= 0.5]['compound scores'].mean()\n",
    "mean_neg_ab =  df_ab[df_ab['compound scores'] <= -0.5]['compound scores'].mean()\n",
    "mean_neu_ab =  df_ab[np.abs(df_ab['compound scores']) <= 0.5]['compound scores'].mean()\n",
    "print('average positive score:', mean_pos_ab)\n",
    "print('average negative score: ', mean_neg_ab)\n",
    "print('average neutral score: ', mean_neu_ab)"
   ]
  },
  {
   "cell_type": "code",
   "execution_count": null,
   "metadata": {},
   "outputs": [],
   "source": []
  },
  {
   "cell_type": "markdown",
   "metadata": {},
   "source": [
    "## Global Warming"
   ]
  },
  {
   "cell_type": "code",
   "execution_count": 126,
   "metadata": {},
   "outputs": [],
   "source": [
    "# load data\n",
    "path_to_file = 'Global_warming/global_warming.csv'\n",
    "\n",
    "df_gw = pd.read_csv(path_to_file)\n"
   ]
  },
  {
   "cell_type": "code",
   "execution_count": 127,
   "metadata": {},
   "outputs": [
    {
     "data": {
      "text/html": [
       "<div>\n",
       "<style scoped>\n",
       "    .dataframe tbody tr th:only-of-type {\n",
       "        vertical-align: middle;\n",
       "    }\n",
       "\n",
       "    .dataframe tbody tr th {\n",
       "        vertical-align: top;\n",
       "    }\n",
       "\n",
       "    .dataframe thead th {\n",
       "        text-align: right;\n",
       "    }\n",
       "</style>\n",
       "<table border=\"1\" class=\"dataframe\">\n",
       "  <thead>\n",
       "    <tr style=\"text-align: right;\">\n",
       "      <th></th>\n",
       "      <th>Unnamed: 0</th>\n",
       "      <th>quoteID</th>\n",
       "      <th>quotation</th>\n",
       "      <th>speaker</th>\n",
       "      <th>qids</th>\n",
       "      <th>date</th>\n",
       "      <th>probas</th>\n",
       "    </tr>\n",
       "  </thead>\n",
       "  <tbody>\n",
       "    <tr>\n",
       "      <td>0</td>\n",
       "      <td>321</td>\n",
       "      <td>2018-08-09-003074</td>\n",
       "      <td>After growing up in a log cabin in the Mission...</td>\n",
       "      <td>Landon Gardner</td>\n",
       "      <td>['Q11752789']</td>\n",
       "      <td>2018-08-09 20:50:00</td>\n",
       "      <td>[['Landon Gardner', '0.7438'], ['None', '0.256...</td>\n",
       "    </tr>\n",
       "    <tr>\n",
       "      <td>1</td>\n",
       "      <td>828</td>\n",
       "      <td>2018-10-18-010126</td>\n",
       "      <td>As the UK heads towards an important new chapt...</td>\n",
       "      <td>Stewart Wingate</td>\n",
       "      <td>['Q23463543']</td>\n",
       "      <td>2018-10-18 16:34:49</td>\n",
       "      <td>[['Stewart Wingate', '0.9579'], ['None', '0.04...</td>\n",
       "    </tr>\n",
       "    <tr>\n",
       "      <td>2</td>\n",
       "      <td>936</td>\n",
       "      <td>2018-11-30-010680</td>\n",
       "      <td>Basically since widespread catchment deforesta...</td>\n",
       "      <td>None</td>\n",
       "      <td>[]</td>\n",
       "      <td>2018-11-30 16:00:00</td>\n",
       "      <td>[['None', '0.9151'], ['Dave Allen', '0.0849']]</td>\n",
       "    </tr>\n",
       "    <tr>\n",
       "      <td>3</td>\n",
       "      <td>1248</td>\n",
       "      <td>2018-05-22-013756</td>\n",
       "      <td>But there's still reason for optimism: We are ...</td>\n",
       "      <td>Michael Kelly</td>\n",
       "      <td>['Q1385380', 'Q20811110', 'Q21458877', 'Q28824...</td>\n",
       "      <td>2018-05-22 11:00:00</td>\n",
       "      <td>[['Michael Kelly', '0.9554'], ['None', '0.0446']]</td>\n",
       "    </tr>\n",
       "    <tr>\n",
       "      <td>4</td>\n",
       "      <td>1395</td>\n",
       "      <td>2018-09-15-007731</td>\n",
       "      <td>Challenges to Both Left and Right in U.S. on G...</td>\n",
       "      <td>Andrew Revkin</td>\n",
       "      <td>['Q4758379']</td>\n",
       "      <td>2018-09-15 04:00:00</td>\n",
       "      <td>[['Andrew Revkin', '0.8461'], ['None', '0.1539']]</td>\n",
       "    </tr>\n",
       "  </tbody>\n",
       "</table>\n",
       "</div>"
      ],
      "text/plain": [
       "   Unnamed: 0            quoteID  \\\n",
       "0         321  2018-08-09-003074   \n",
       "1         828  2018-10-18-010126   \n",
       "2         936  2018-11-30-010680   \n",
       "3        1248  2018-05-22-013756   \n",
       "4        1395  2018-09-15-007731   \n",
       "\n",
       "                                           quotation          speaker  \\\n",
       "0  After growing up in a log cabin in the Mission...   Landon Gardner   \n",
       "1  As the UK heads towards an important new chapt...  Stewart Wingate   \n",
       "2  Basically since widespread catchment deforesta...             None   \n",
       "3  But there's still reason for optimism: We are ...    Michael Kelly   \n",
       "4  Challenges to Both Left and Right in U.S. on G...    Andrew Revkin   \n",
       "\n",
       "                                                qids                 date  \\\n",
       "0                                      ['Q11752789']  2018-08-09 20:50:00   \n",
       "1                                      ['Q23463543']  2018-10-18 16:34:49   \n",
       "2                                                 []  2018-11-30 16:00:00   \n",
       "3  ['Q1385380', 'Q20811110', 'Q21458877', 'Q28824...  2018-05-22 11:00:00   \n",
       "4                                       ['Q4758379']  2018-09-15 04:00:00   \n",
       "\n",
       "                                              probas  \n",
       "0  [['Landon Gardner', '0.7438'], ['None', '0.256...  \n",
       "1  [['Stewart Wingate', '0.9579'], ['None', '0.04...  \n",
       "2     [['None', '0.9151'], ['Dave Allen', '0.0849']]  \n",
       "3  [['Michael Kelly', '0.9554'], ['None', '0.0446']]  \n",
       "4  [['Andrew Revkin', '0.8461'], ['None', '0.1539']]  "
      ]
     },
     "execution_count": 127,
     "metadata": {},
     "output_type": "execute_result"
    }
   ],
   "source": [
    "# delete columns\n",
    "df_gw.__delitem__('numOccurrences')\n",
    "df_gw.__delitem__('urls')\n",
    "df_gw.__delitem__('phase')\n",
    "\n",
    "df_gw.head()"
   ]
  },
  {
   "cell_type": "code",
   "execution_count": 128,
   "metadata": {},
   "outputs": [
    {
     "name": "stdout",
     "output_type": "stream",
     "text": [
      "\n"
     ]
    }
   ],
   "source": [
    "# sentiments\n",
    "positive_sent_gw = []\n",
    "negative_sent_gw = []\n",
    "total_sent_gw = []\n",
    "\n",
    "[positive_sent_gw.append(analyzer.polarity_scores(quote)['pos']) for quote in df_gw['quotation']]\n",
    "[negative_sent_gw.append(analyzer.polarity_scores(quote)['neg']) for quote in df_gw['quotation']]\n",
    "[total_sent_gw.append(analyzer.polarity_scores(quote)['compound']) for quote in df_gw['quotation']]\n",
    "\n",
    "print()"
   ]
  },
  {
   "cell_type": "code",
   "execution_count": 95,
   "metadata": {},
   "outputs": [
    {
     "data": {
      "text/plain": [
       "(0, 1)"
      ]
     },
     "execution_count": 95,
     "metadata": {},
     "output_type": "execute_result"
    },
    {
     "data": {
      "image/png": "[encoded data removed]",
      "text/plain": [
       "<Figure size 432x288 with 1 Axes>"
      ]
     },
     "metadata": {
      "needs_background": "light"
     },
     "output_type": "display_data"
    }
   ],
   "source": [
    "plt.hist(positive_sent_gw, bins = 50)\n",
    "plt.xlim([0,1])"
   ]
  },
  {
   "cell_type": "code",
   "execution_count": 130,
   "metadata": {},
   "outputs": [
    {
     "data": {
      "text/plain": [
       "(0, 1)"
      ]
     },
     "execution_count": 130,
     "metadata": {},
     "output_type": "execute_result"
    },
    {
     "data": {
      "image/png": "[encoded data removed]",
      "text/plain": [
       "<Figure size 432x288 with 1 Axes>"
      ]
     },
     "metadata": {
      "needs_background": "light"
     },
     "output_type": "display_data"
    }
   ],
   "source": [
    "plt.hist(negative_sent_gw, bins = 50)\n",
    "plt.xlim([0,1])"
   ]
  },
  {
   "cell_type": "code",
   "execution_count": 131,
   "metadata": {},
   "outputs": [
    {
     "data": {
      "text/plain": [
       "(-1, 1)"
      ]
     },
     "execution_count": 131,
     "metadata": {},
     "output_type": "execute_result"
    },
    {
     "data": {
      "image/png": "[encoded data removed]",
      "text/plain": [
       "<Figure size 432x288 with 1 Axes>"
      ]
     },
     "metadata": {
      "needs_background": "light"
     },
     "output_type": "display_data"
    }
   ],
   "source": [
    "plt.hist(total_sent_gw, bins = 50)\n",
    "plt.xlim([-1,1])"
   ]
  },
  {
   "cell_type": "code",
   "execution_count": 132,
   "metadata": {},
   "outputs": [
    {
     "data": {
      "text/html": [
       "<div>\n",
       "<style scoped>\n",
       "    .dataframe tbody tr th:only-of-type {\n",
       "        vertical-align: middle;\n",
       "    }\n",
       "\n",
       "    .dataframe tbody tr th {\n",
       "        vertical-align: top;\n",
       "    }\n",
       "\n",
       "    .dataframe thead th {\n",
       "        text-align: right;\n",
       "    }\n",
       "</style>\n",
       "<table border=\"1\" class=\"dataframe\">\n",
       "  <thead>\n",
       "    <tr style=\"text-align: right;\">\n",
       "      <th></th>\n",
       "      <th>Unnamed: 0</th>\n",
       "      <th>quoteID</th>\n",
       "      <th>quotation</th>\n",
       "      <th>speaker</th>\n",
       "      <th>qids</th>\n",
       "      <th>date</th>\n",
       "      <th>probas</th>\n",
       "      <th>positive scores</th>\n",
       "      <th>negative scores</th>\n",
       "      <th>compound scores</th>\n",
       "    </tr>\n",
       "  </thead>\n",
       "  <tbody>\n",
       "    <tr>\n",
       "      <td>0</td>\n",
       "      <td>321</td>\n",
       "      <td>2018-08-09-003074</td>\n",
       "      <td>After growing up in a log cabin in the Mission...</td>\n",
       "      <td>Landon Gardner</td>\n",
       "      <td>['Q11752789']</td>\n",
       "      <td>2018-08-09 20:50:00</td>\n",
       "      <td>[['Landon Gardner', '0.7438'], ['None', '0.256...</td>\n",
       "      <td>0.158</td>\n",
       "      <td>0.0</td>\n",
       "      <td>0.7650</td>\n",
       "    </tr>\n",
       "    <tr>\n",
       "      <td>1</td>\n",
       "      <td>828</td>\n",
       "      <td>2018-10-18-010126</td>\n",
       "      <td>As the UK heads towards an important new chapt...</td>\n",
       "      <td>Stewart Wingate</td>\n",
       "      <td>['Q23463543']</td>\n",
       "      <td>2018-10-18 16:34:49</td>\n",
       "      <td>[['Stewart Wingate', '0.9579'], ['None', '0.04...</td>\n",
       "      <td>0.096</td>\n",
       "      <td>0.0</td>\n",
       "      <td>0.1901</td>\n",
       "    </tr>\n",
       "    <tr>\n",
       "      <td>2</td>\n",
       "      <td>936</td>\n",
       "      <td>2018-11-30-010680</td>\n",
       "      <td>Basically since widespread catchment deforesta...</td>\n",
       "      <td>None</td>\n",
       "      <td>[]</td>\n",
       "      <td>2018-11-30 16:00:00</td>\n",
       "      <td>[['None', '0.9151'], ['Dave Allen', '0.0849']]</td>\n",
       "      <td>0.000</td>\n",
       "      <td>0.0</td>\n",
       "      <td>0.0000</td>\n",
       "    </tr>\n",
       "    <tr>\n",
       "      <td>3</td>\n",
       "      <td>1248</td>\n",
       "      <td>2018-05-22-013756</td>\n",
       "      <td>But there's still reason for optimism: We are ...</td>\n",
       "      <td>Michael Kelly</td>\n",
       "      <td>['Q1385380', 'Q20811110', 'Q21458877', 'Q28824...</td>\n",
       "      <td>2018-05-22 11:00:00</td>\n",
       "      <td>[['Michael Kelly', '0.9554'], ['None', '0.0446']]</td>\n",
       "      <td>0.150</td>\n",
       "      <td>0.0</td>\n",
       "      <td>0.6956</td>\n",
       "    </tr>\n",
       "    <tr>\n",
       "      <td>4</td>\n",
       "      <td>1395</td>\n",
       "      <td>2018-09-15-007731</td>\n",
       "      <td>Challenges to Both Left and Right in U.S. on G...</td>\n",
       "      <td>Andrew Revkin</td>\n",
       "      <td>['Q4758379']</td>\n",
       "      <td>2018-09-15 04:00:00</td>\n",
       "      <td>[['Andrew Revkin', '0.8461'], ['None', '0.1539']]</td>\n",
       "      <td>0.244</td>\n",
       "      <td>0.0</td>\n",
       "      <td>0.2263</td>\n",
       "    </tr>\n",
       "  </tbody>\n",
       "</table>\n",
       "</div>"
      ],
      "text/plain": [
       "   Unnamed: 0            quoteID  \\\n",
       "0         321  2018-08-09-003074   \n",
       "1         828  2018-10-18-010126   \n",
       "2         936  2018-11-30-010680   \n",
       "3        1248  2018-05-22-013756   \n",
       "4        1395  2018-09-15-007731   \n",
       "\n",
       "                                           quotation          speaker  \\\n",
       "0  After growing up in a log cabin in the Mission...   Landon Gardner   \n",
       "1  As the UK heads towards an important new chapt...  Stewart Wingate   \n",
       "2  Basically since widespread catchment deforesta...             None   \n",
       "3  But there's still reason for optimism: We are ...    Michael Kelly   \n",
       "4  Challenges to Both Left and Right in U.S. on G...    Andrew Revkin   \n",
       "\n",
       "                                                qids                 date  \\\n",
       "0                                      ['Q11752789']  2018-08-09 20:50:00   \n",
       "1                                      ['Q23463543']  2018-10-18 16:34:49   \n",
       "2                                                 []  2018-11-30 16:00:00   \n",
       "3  ['Q1385380', 'Q20811110', 'Q21458877', 'Q28824...  2018-05-22 11:00:00   \n",
       "4                                       ['Q4758379']  2018-09-15 04:00:00   \n",
       "\n",
       "                                              probas  positive scores  \\\n",
       "0  [['Landon Gardner', '0.7438'], ['None', '0.256...            0.158   \n",
       "1  [['Stewart Wingate', '0.9579'], ['None', '0.04...            0.096   \n",
       "2     [['None', '0.9151'], ['Dave Allen', '0.0849']]            0.000   \n",
       "3  [['Michael Kelly', '0.9554'], ['None', '0.0446']]            0.150   \n",
       "4  [['Andrew Revkin', '0.8461'], ['None', '0.1539']]            0.244   \n",
       "\n",
       "   negative scores  compound scores  \n",
       "0              0.0           0.7650  \n",
       "1              0.0           0.1901  \n",
       "2              0.0           0.0000  \n",
       "3              0.0           0.6956  \n",
       "4              0.0           0.2263  "
      ]
     },
     "execution_count": 132,
     "metadata": {},
     "output_type": "execute_result"
    }
   ],
   "source": [
    "# add sentiment columns\n",
    "df_gw['positive scores'] =  positive_sent_gw\n",
    "df_gw['negative scores'] =  negative_sent_gw\n",
    "df_gw['compound scores'] =  total_sent_gw\n",
    "df_gw.head()"
   ]
  },
  {
   "cell_type": "code",
   "execution_count": 135,
   "metadata": {},
   "outputs": [
    {
     "name": "stdout",
     "output_type": "stream",
     "text": [
      "number of positive sent:  110164\n",
      "number of negative sent:  29821\n",
      "number of neutral sent:  26390\n"
     ]
    }
   ],
   "source": [
    "# print total number of positive, negative and neutral quotes\n",
    "print('number of positive sent: ', sum(np.array(total_sent_gw)>= 0.05))\n",
    "print('number of negative sent: ', sum(np.array(total_sent_gw)<= -0.05))\n",
    "print('number of neutral sent: ', sum(np.abs(np.array(total_sent_gw))<= 0.05))"
   ]
  },
  {
   "cell_type": "code",
   "execution_count": 163,
   "metadata": {},
   "outputs": [
    {
     "name": "stdout",
     "output_type": "stream",
     "text": [
      "average positive score: 0.7700554617157257\n",
      "average negative score:  -0.6916190387133041\n",
      "average neutral score:  0.08420222786698688\n"
     ]
    }
   ],
   "source": [
    "# calculate average positive, negative and neutral scores\n",
    "mean_pos_gw = df_gw[df_gw['compound scores']>= 0.5]['compound scores'] .mean()\n",
    "mean_neg_gw =  df_gw[df_gw['compound scores']<= -0.5]['compound scores'] .mean()\n",
    "mean_neu_gw =  df_gw[np.abs(df_gw['compound scores'])<= 0.5]['compound scores'] .mean()\n",
    "print('average positive score:', mean_pos_gw)\n",
    "print('average negative score: ', mean_neg_gw)\n",
    "print('average neutral score: ', mean_neu_gw)"
   ]
  },
  {
   "cell_type": "code",
   "execution_count": 161,
   "metadata": {},
   "outputs": [
    {
     "data": {
      "text/plain": [
       "0.7700554617157257"
      ]
     },
     "execution_count": 161,
     "metadata": {},
     "output_type": "execute_result"
    }
   ],
   "source": []
  },
  {
   "cell_type": "markdown",
   "metadata": {},
   "source": [
    "## Gender Inequality"
   ]
  },
  {
   "cell_type": "code",
   "execution_count": 100,
   "metadata": {},
   "outputs": [
    {
     "data": {
      "text/html": [
       "<div>\n",
       "<style scoped>\n",
       "    .dataframe tbody tr th:only-of-type {\n",
       "        vertical-align: middle;\n",
       "    }\n",
       "\n",
       "    .dataframe tbody tr th {\n",
       "        vertical-align: top;\n",
       "    }\n",
       "\n",
       "    .dataframe thead th {\n",
       "        text-align: right;\n",
       "    }\n",
       "</style>\n",
       "<table border=\"1\" class=\"dataframe\">\n",
       "  <thead>\n",
       "    <tr style=\"text-align: right;\">\n",
       "      <th></th>\n",
       "      <th>Unnamed: 0</th>\n",
       "      <th>quoteID</th>\n",
       "      <th>quotation</th>\n",
       "      <th>speaker</th>\n",
       "      <th>qids</th>\n",
       "      <th>date</th>\n",
       "      <th>numOccurrences</th>\n",
       "      <th>probas</th>\n",
       "      <th>urls</th>\n",
       "      <th>phase</th>\n",
       "    </tr>\n",
       "  </thead>\n",
       "  <tbody>\n",
       "    <tr>\n",
       "      <td>0</td>\n",
       "      <td>1400011</td>\n",
       "      <td>2015-12-09-139783</td>\n",
       "      <td>will push for energy development, beefed-up la...</td>\n",
       "      <td>Victor Davis Hanson</td>\n",
       "      <td>['Q1276395']</td>\n",
       "      <td>2015-12-09 06:33:51</td>\n",
       "      <td>3</td>\n",
       "      <td>[['Victor Davis Hanson', '0.7887'], ['None', '...</td>\n",
       "      <td>['http://breitbart.com/california/2015/12/09/r...</td>\n",
       "      <td>E</td>\n",
       "    </tr>\n",
       "    <tr>\n",
       "      <td>1</td>\n",
       "      <td>1401214</td>\n",
       "      <td>2015-09-04-095700</td>\n",
       "      <td>The revered Mother Teresa, who works in the st...</td>\n",
       "      <td>None</td>\n",
       "      <td>[]</td>\n",
       "      <td>2015-09-04 21:09:20</td>\n",
       "      <td>3</td>\n",
       "      <td>[['None', '0.8472'], ['Al Gore', '0.0952'], ['...</td>\n",
       "      <td>['http://www.wnd.com/2015/09/this-is-the-great...</td>\n",
       "      <td>E</td>\n",
       "    </tr>\n",
       "    <tr>\n",
       "      <td>2</td>\n",
       "      <td>1404392</td>\n",
       "      <td>2015-05-13-068629</td>\n",
       "      <td>We got done and she was standing on her head i...</td>\n",
       "      <td>Dennis Rodman</td>\n",
       "      <td>['Q201608']</td>\n",
       "      <td>2015-05-13 16:50:41</td>\n",
       "      <td>2</td>\n",
       "      <td>[['Dennis Rodman', '0.6836'], ['Carmen Electra...</td>\n",
       "      <td>['http://uproxx.com/dimemag/2015/05/all-the-cr...</td>\n",
       "      <td>E</td>\n",
       "    </tr>\n",
       "    <tr>\n",
       "      <td>3</td>\n",
       "      <td>1406420</td>\n",
       "      <td>2015-01-09-091216</td>\n",
       "      <td>while African Americans make up just 13 percen...</td>\n",
       "      <td>None</td>\n",
       "      <td>[]</td>\n",
       "      <td>2015-01-09 23:38:13</td>\n",
       "      <td>1</td>\n",
       "      <td>[['None', '0.9263'], ['Alveda King', '0.0737']]</td>\n",
       "      <td>['http://www.westernjournalism.com/martin-luth...</td>\n",
       "      <td>E</td>\n",
       "    </tr>\n",
       "    <tr>\n",
       "      <td>4</td>\n",
       "      <td>1409432</td>\n",
       "      <td>2015-09-23-016630</td>\n",
       "      <td>Conservatives worry about the way he seems to ...</td>\n",
       "      <td>Robert Royal</td>\n",
       "      <td>['Q7349412', 'Q7349413']</td>\n",
       "      <td>2015-09-23 16:35:22</td>\n",
       "      <td>1</td>\n",
       "      <td>[['Robert Royal', '0.8235'], ['None', '0.1318'...</td>\n",
       "      <td>['http://hotair.com/headlines/archives/2015/09...</td>\n",
       "      <td>E</td>\n",
       "    </tr>\n",
       "  </tbody>\n",
       "</table>\n",
       "</div>"
      ],
      "text/plain": [
       "   Unnamed: 0            quoteID  \\\n",
       "0     1400011  2015-12-09-139783   \n",
       "1     1401214  2015-09-04-095700   \n",
       "2     1404392  2015-05-13-068629   \n",
       "3     1406420  2015-01-09-091216   \n",
       "4     1409432  2015-09-23-016630   \n",
       "\n",
       "                                           quotation              speaker  \\\n",
       "0  will push for energy development, beefed-up la...  Victor Davis Hanson   \n",
       "1  The revered Mother Teresa, who works in the st...                 None   \n",
       "2  We got done and she was standing on her head i...        Dennis Rodman   \n",
       "3  while African Americans make up just 13 percen...                 None   \n",
       "4  Conservatives worry about the way he seems to ...         Robert Royal   \n",
       "\n",
       "                       qids                 date  numOccurrences  \\\n",
       "0              ['Q1276395']  2015-12-09 06:33:51               3   \n",
       "1                        []  2015-09-04 21:09:20               3   \n",
       "2               ['Q201608']  2015-05-13 16:50:41               2   \n",
       "3                        []  2015-01-09 23:38:13               1   \n",
       "4  ['Q7349412', 'Q7349413']  2015-09-23 16:35:22               1   \n",
       "\n",
       "                                              probas  \\\n",
       "0  [['Victor Davis Hanson', '0.7887'], ['None', '...   \n",
       "1  [['None', '0.8472'], ['Al Gore', '0.0952'], ['...   \n",
       "2  [['Dennis Rodman', '0.6836'], ['Carmen Electra...   \n",
       "3    [['None', '0.9263'], ['Alveda King', '0.0737']]   \n",
       "4  [['Robert Royal', '0.8235'], ['None', '0.1318'...   \n",
       "\n",
       "                                                urls phase  \n",
       "0  ['http://breitbart.com/california/2015/12/09/r...     E  \n",
       "1  ['http://www.wnd.com/2015/09/this-is-the-great...     E  \n",
       "2  ['http://uproxx.com/dimemag/2015/05/all-the-cr...     E  \n",
       "3  ['http://www.westernjournalism.com/martin-luth...     E  \n",
       "4  ['http://hotair.com/headlines/archives/2015/09...     E  "
      ]
     },
     "execution_count": 100,
     "metadata": {},
     "output_type": "execute_result"
    }
   ],
   "source": [
    "# load data\n",
    "path_to_file = 'Gender_Inequality/gender_inequality.csv'\n",
    "\n",
    "df_gi = pd.read_csv(path_to_file)\n",
    "\n",
    "df.head()"
   ]
  },
  {
   "cell_type": "code",
   "execution_count": 101,
   "metadata": {},
   "outputs": [
    {
     "data": {
      "text/html": [
       "<div>\n",
       "<style scoped>\n",
       "    .dataframe tbody tr th:only-of-type {\n",
       "        vertical-align: middle;\n",
       "    }\n",
       "\n",
       "    .dataframe tbody tr th {\n",
       "        vertical-align: top;\n",
       "    }\n",
       "\n",
       "    .dataframe thead th {\n",
       "        text-align: right;\n",
       "    }\n",
       "</style>\n",
       "<table border=\"1\" class=\"dataframe\">\n",
       "  <thead>\n",
       "    <tr style=\"text-align: right;\">\n",
       "      <th></th>\n",
       "      <th>Unnamed: 0</th>\n",
       "      <th>quoteID</th>\n",
       "      <th>quotation</th>\n",
       "      <th>speaker</th>\n",
       "      <th>qids</th>\n",
       "      <th>date</th>\n",
       "      <th>probas</th>\n",
       "    </tr>\n",
       "  </thead>\n",
       "  <tbody>\n",
       "    <tr>\n",
       "      <td>0</td>\n",
       "      <td>3900322</td>\n",
       "      <td>2019-08-12-051728</td>\n",
       "      <td>Not only winning the World Cup with her amazin...</td>\n",
       "      <td>Taylor Swift</td>\n",
       "      <td>['Q26876']</td>\n",
       "      <td>2019-08-12 12:55:41</td>\n",
       "      <td>[['Taylor Swift', '0.9038'], ['None', '0.0799'...</td>\n",
       "    </tr>\n",
       "    <tr>\n",
       "      <td>1</td>\n",
       "      <td>3900920</td>\n",
       "      <td>2019-01-23-074654</td>\n",
       "      <td>Our main mission is to breach the gender gap,</td>\n",
       "      <td>None</td>\n",
       "      <td>[]</td>\n",
       "      <td>2019-01-23 05:46:04</td>\n",
       "      <td>[['None', '0.9186'], ['Chang Liu', '0.0814']]</td>\n",
       "    </tr>\n",
       "    <tr>\n",
       "      <td>2</td>\n",
       "      <td>3902699</td>\n",
       "      <td>2019-12-19-020869</td>\n",
       "      <td>Growing up in Pakistan, I was a feminist befor...</td>\n",
       "      <td>Ziauddin Yousafzai</td>\n",
       "      <td>['Q8071389']</td>\n",
       "      <td>2019-12-19 17:03:35</td>\n",
       "      <td>[['Ziauddin Yousafzai', '0.7561'], ['None', '0...</td>\n",
       "    </tr>\n",
       "    <tr>\n",
       "      <td>3</td>\n",
       "      <td>3904083</td>\n",
       "      <td>2019-03-28-032705</td>\n",
       "      <td>I didn't think I was breaking a trade secret, ...</td>\n",
       "      <td>Piers Morgan</td>\n",
       "      <td>['Q557758']</td>\n",
       "      <td>2019-03-28 04:09:36</td>\n",
       "      <td>[['Piers Morgan', '0.8436'], ['None', '0.1361'...</td>\n",
       "    </tr>\n",
       "    <tr>\n",
       "      <td>4</td>\n",
       "      <td>3904546</td>\n",
       "      <td>2019-01-25-095509</td>\n",
       "      <td>The thing about misogyny is everyone does it,</td>\n",
       "      <td>None</td>\n",
       "      <td>[]</td>\n",
       "      <td>2019-01-25 21:18:53</td>\n",
       "      <td>[['None', '0.8255'], ['Karen Carpenter', '0.11...</td>\n",
       "    </tr>\n",
       "  </tbody>\n",
       "</table>\n",
       "</div>"
      ],
      "text/plain": [
       "   Unnamed: 0            quoteID  \\\n",
       "0     3900322  2019-08-12-051728   \n",
       "1     3900920  2019-01-23-074654   \n",
       "2     3902699  2019-12-19-020869   \n",
       "3     3904083  2019-03-28-032705   \n",
       "4     3904546  2019-01-25-095509   \n",
       "\n",
       "                                           quotation             speaker  \\\n",
       "0  Not only winning the World Cup with her amazin...        Taylor Swift   \n",
       "1      Our main mission is to breach the gender gap,                None   \n",
       "2  Growing up in Pakistan, I was a feminist befor...  Ziauddin Yousafzai   \n",
       "3  I didn't think I was breaking a trade secret, ...        Piers Morgan   \n",
       "4      The thing about misogyny is everyone does it,                None   \n",
       "\n",
       "           qids                 date  \\\n",
       "0    ['Q26876']  2019-08-12 12:55:41   \n",
       "1            []  2019-01-23 05:46:04   \n",
       "2  ['Q8071389']  2019-12-19 17:03:35   \n",
       "3   ['Q557758']  2019-03-28 04:09:36   \n",
       "4            []  2019-01-25 21:18:53   \n",
       "\n",
       "                                              probas  \n",
       "0  [['Taylor Swift', '0.9038'], ['None', '0.0799'...  \n",
       "1      [['None', '0.9186'], ['Chang Liu', '0.0814']]  \n",
       "2  [['Ziauddin Yousafzai', '0.7561'], ['None', '0...  \n",
       "3  [['Piers Morgan', '0.8436'], ['None', '0.1361'...  \n",
       "4  [['None', '0.8255'], ['Karen Carpenter', '0.11...  "
      ]
     },
     "execution_count": 101,
     "metadata": {},
     "output_type": "execute_result"
    }
   ],
   "source": [
    "# delete columns\n",
    "df_gi.__delitem__('numOccurrences')\n",
    "df_gi.__delitem__('urls')\n",
    "df_gi.__delitem__('phase')\n",
    "\n",
    "df_gi.head()"
   ]
  },
  {
   "cell_type": "code",
   "execution_count": 144,
   "metadata": {},
   "outputs": [
    {
     "name": "stdout",
     "output_type": "stream",
     "text": [
      "\n"
     ]
    }
   ],
   "source": [
    "# sentiments\n",
    "positive_sent_gi = []\n",
    "negative_sent_gi = []\n",
    "total_sent_gi = []\n",
    "\n",
    "[positive_sent_gi.append(analyzer.polarity_scores(quote)['pos']) for quote in df_gi['quotation']]\n",
    "[negative_sent_gi.append(analyzer.polarity_scores(quote)['neg']) for quote in df_gi['quotation']]\n",
    "[total_sent_gi.append(analyzer.polarity_scores(quote)['compound']) for quote in df_gi['quotation']]\n",
    "\n",
    "print()"
   ]
  },
  {
   "cell_type": "code",
   "execution_count": 145,
   "metadata": {},
   "outputs": [
    {
     "data": {
      "text/plain": [
       "(0, 1)"
      ]
     },
     "execution_count": 145,
     "metadata": {},
     "output_type": "execute_result"
    },
    {
     "data": {
      "image/png": "[encoded data removed]",
      "text/plain": [
       "<Figure size 432x288 with 1 Axes>"
      ]
     },
     "metadata": {
      "needs_background": "light"
     },
     "output_type": "display_data"
    }
   ],
   "source": [
    "plt.hist(positive_sent_gi, bins = 50)\n",
    "\n",
    "plt.xlim([0,1])"
   ]
  },
  {
   "cell_type": "code",
   "execution_count": 146,
   "metadata": {},
   "outputs": [
    {
     "data": {
      "text/plain": [
       "(0, 1)"
      ]
     },
     "execution_count": 146,
     "metadata": {},
     "output_type": "execute_result"
    },
    {
     "data": {
      "image/png": "[encoded data removed]",
      "text/plain": [
       "<Figure size 432x288 with 1 Axes>"
      ]
     },
     "metadata": {
      "needs_background": "light"
     },
     "output_type": "display_data"
    }
   ],
   "source": [
    "plt.hist(negative_sent_gi,bins = 50)\n",
    "plt.xlim([0,1])"
   ]
  },
  {
   "cell_type": "code",
   "execution_count": 147,
   "metadata": {},
   "outputs": [
    {
     "data": {
      "text/plain": [
       "(-1, 1)"
      ]
     },
     "execution_count": 147,
     "metadata": {},
     "output_type": "execute_result"
    },
    {
     "data": {
      "image/png": "[encoded data removed]",
      "text/plain": [
       "<Figure size 432x288 with 1 Axes>"
      ]
     },
     "metadata": {
      "needs_background": "light"
     },
     "output_type": "display_data"
    }
   ],
   "source": [
    "plt.hist(total_sent_gi, bins = 50)\n",
    "\n",
    "plt.xlim([-1,1])"
   ]
  },
  {
   "cell_type": "code",
   "execution_count": 148,
   "metadata": {},
   "outputs": [
    {
     "data": {
      "text/html": [
       "<div>\n",
       "<style scoped>\n",
       "    .dataframe tbody tr th:only-of-type {\n",
       "        vertical-align: middle;\n",
       "    }\n",
       "\n",
       "    .dataframe tbody tr th {\n",
       "        vertical-align: top;\n",
       "    }\n",
       "\n",
       "    .dataframe thead th {\n",
       "        text-align: right;\n",
       "    }\n",
       "</style>\n",
       "<table border=\"1\" class=\"dataframe\">\n",
       "  <thead>\n",
       "    <tr style=\"text-align: right;\">\n",
       "      <th></th>\n",
       "      <th>Unnamed: 0</th>\n",
       "      <th>quoteID</th>\n",
       "      <th>quotation</th>\n",
       "      <th>speaker</th>\n",
       "      <th>qids</th>\n",
       "      <th>date</th>\n",
       "      <th>probas</th>\n",
       "      <th>positive scores</th>\n",
       "      <th>negative scores</th>\n",
       "      <th>compound scores</th>\n",
       "    </tr>\n",
       "  </thead>\n",
       "  <tbody>\n",
       "    <tr>\n",
       "      <td>0</td>\n",
       "      <td>3900322</td>\n",
       "      <td>2019-08-12-051728</td>\n",
       "      <td>Not only winning the World Cup with her amazin...</td>\n",
       "      <td>Taylor Swift</td>\n",
       "      <td>['Q26876']</td>\n",
       "      <td>2019-08-12 12:55:41</td>\n",
       "      <td>[['Taylor Swift', '0.9038'], ['None', '0.0799'...</td>\n",
       "      <td>0.177</td>\n",
       "      <td>0.088</td>\n",
       "      <td>0.6717</td>\n",
       "    </tr>\n",
       "    <tr>\n",
       "      <td>1</td>\n",
       "      <td>3900920</td>\n",
       "      <td>2019-01-23-074654</td>\n",
       "      <td>Our main mission is to breach the gender gap,</td>\n",
       "      <td>None</td>\n",
       "      <td>[]</td>\n",
       "      <td>2019-01-23 05:46:04</td>\n",
       "      <td>[['None', '0.9186'], ['Chang Liu', '0.0814']]</td>\n",
       "      <td>0.000</td>\n",
       "      <td>0.000</td>\n",
       "      <td>0.0000</td>\n",
       "    </tr>\n",
       "    <tr>\n",
       "      <td>2</td>\n",
       "      <td>3902699</td>\n",
       "      <td>2019-12-19-020869</td>\n",
       "      <td>Growing up in Pakistan, I was a feminist befor...</td>\n",
       "      <td>Ziauddin Yousafzai</td>\n",
       "      <td>['Q8071389']</td>\n",
       "      <td>2019-12-19 17:03:35</td>\n",
       "      <td>[['Ziauddin Yousafzai', '0.7561'], ['None', '0...</td>\n",
       "      <td>0.149</td>\n",
       "      <td>0.070</td>\n",
       "      <td>0.2144</td>\n",
       "    </tr>\n",
       "    <tr>\n",
       "      <td>3</td>\n",
       "      <td>3904083</td>\n",
       "      <td>2019-03-28-032705</td>\n",
       "      <td>I didn't think I was breaking a trade secret, ...</td>\n",
       "      <td>Piers Morgan</td>\n",
       "      <td>['Q557758']</td>\n",
       "      <td>2019-03-28 04:09:36</td>\n",
       "      <td>[['Piers Morgan', '0.8436'], ['None', '0.1361'...</td>\n",
       "      <td>0.000</td>\n",
       "      <td>0.000</td>\n",
       "      <td>0.0000</td>\n",
       "    </tr>\n",
       "    <tr>\n",
       "      <td>4</td>\n",
       "      <td>3904546</td>\n",
       "      <td>2019-01-25-095509</td>\n",
       "      <td>The thing about misogyny is everyone does it,</td>\n",
       "      <td>None</td>\n",
       "      <td>[]</td>\n",
       "      <td>2019-01-25 21:18:53</td>\n",
       "      <td>[['None', '0.8255'], ['Karen Carpenter', '0.11...</td>\n",
       "      <td>0.000</td>\n",
       "      <td>0.000</td>\n",
       "      <td>0.0000</td>\n",
       "    </tr>\n",
       "  </tbody>\n",
       "</table>\n",
       "</div>"
      ],
      "text/plain": [
       "   Unnamed: 0            quoteID  \\\n",
       "0     3900322  2019-08-12-051728   \n",
       "1     3900920  2019-01-23-074654   \n",
       "2     3902699  2019-12-19-020869   \n",
       "3     3904083  2019-03-28-032705   \n",
       "4     3904546  2019-01-25-095509   \n",
       "\n",
       "                                           quotation             speaker  \\\n",
       "0  Not only winning the World Cup with her amazin...        Taylor Swift   \n",
       "1      Our main mission is to breach the gender gap,                None   \n",
       "2  Growing up in Pakistan, I was a feminist befor...  Ziauddin Yousafzai   \n",
       "3  I didn't think I was breaking a trade secret, ...        Piers Morgan   \n",
       "4      The thing about misogyny is everyone does it,                None   \n",
       "\n",
       "           qids                 date  \\\n",
       "0    ['Q26876']  2019-08-12 12:55:41   \n",
       "1            []  2019-01-23 05:46:04   \n",
       "2  ['Q8071389']  2019-12-19 17:03:35   \n",
       "3   ['Q557758']  2019-03-28 04:09:36   \n",
       "4            []  2019-01-25 21:18:53   \n",
       "\n",
       "                                              probas  positive scores  \\\n",
       "0  [['Taylor Swift', '0.9038'], ['None', '0.0799'...            0.177   \n",
       "1      [['None', '0.9186'], ['Chang Liu', '0.0814']]            0.000   \n",
       "2  [['Ziauddin Yousafzai', '0.7561'], ['None', '0...            0.149   \n",
       "3  [['Piers Morgan', '0.8436'], ['None', '0.1361'...            0.000   \n",
       "4  [['None', '0.8255'], ['Karen Carpenter', '0.11...            0.000   \n",
       "\n",
       "   negative scores  compound scores  \n",
       "0            0.088           0.6717  \n",
       "1            0.000           0.0000  \n",
       "2            0.070           0.2144  \n",
       "3            0.000           0.0000  \n",
       "4            0.000           0.0000  "
      ]
     },
     "execution_count": 148,
     "metadata": {},
     "output_type": "execute_result"
    }
   ],
   "source": [
    "# add sentiment columns\n",
    "df_gi['positive scores'] =  positive_sent_gi\n",
    "df_gi['negative scores'] =  negative_sent_gi\n",
    "df_gi['compound scores'] =  total_sent_gi\n",
    "df_gi.head()"
   ]
  },
  {
   "cell_type": "code",
   "execution_count": 149,
   "metadata": {},
   "outputs": [
    {
     "name": "stdout",
     "output_type": "stream",
     "text": [
      "number of positive sent:  7446\n",
      "number of negative sent:  7633\n",
      "number of neutral sent:  3518\n"
     ]
    }
   ],
   "source": [
    "print('number of positive sent: ', sum(np.array(total_sent_gi)>= 0.05))\n",
    "print('number of negative sent: ', sum(np.array(total_sent_gi)<= -0.05))\n",
    "print('number of neutral sent: ', sum(np.abs(np.array(total_sent_gi))<= 0.05))"
   ]
  },
  {
   "cell_type": "code",
   "execution_count": 165,
   "metadata": {},
   "outputs": [
    {
     "name": "stdout",
     "output_type": "stream",
     "text": [
      "average positive score: 0.7395042954031645\n",
      "average negative score:  -0.739078281568803\n",
      "average neutral score:  0.01056522292993632\n"
     ]
    }
   ],
   "source": [
    "# calculate average positive, negative and neutral scores\n",
    "mean_pos_gi = df_gi[df_gi['compound scores'] >= 0.5]['compound scores'].mean()\n",
    "mean_neg_gi =  df_gi[df_gi['compound scores'] <= -0.5]['compound scores'].mean()\n",
    "mean_neu_gi =  df_gi[np.abs(df_gi['compound scores']) <= 0.5]['compound scores'].mean()\n",
    "print('average positive score:', mean_pos_gi)\n",
    "print('average negative score: ', mean_neg_gi)\n",
    "print('average neutral score: ', mean_neu_gi)"
   ]
  },
  {
   "cell_type": "markdown",
   "metadata": {},
   "source": [
    "## Gun Control"
   ]
  },
  {
   "cell_type": "code",
   "execution_count": 150,
   "metadata": {},
   "outputs": [
    {
     "data": {
      "text/html": [
       "<div>\n",
       "<style scoped>\n",
       "    .dataframe tbody tr th:only-of-type {\n",
       "        vertical-align: middle;\n",
       "    }\n",
       "\n",
       "    .dataframe tbody tr th {\n",
       "        vertical-align: top;\n",
       "    }\n",
       "\n",
       "    .dataframe thead th {\n",
       "        text-align: right;\n",
       "    }\n",
       "</style>\n",
       "<table border=\"1\" class=\"dataframe\">\n",
       "  <thead>\n",
       "    <tr style=\"text-align: right;\">\n",
       "      <th></th>\n",
       "      <th>Unnamed: 0</th>\n",
       "      <th>quoteID</th>\n",
       "      <th>quotation</th>\n",
       "      <th>speaker</th>\n",
       "      <th>qids</th>\n",
       "      <th>date</th>\n",
       "      <th>probas</th>\n",
       "      <th>positive scores</th>\n",
       "      <th>negative scores</th>\n",
       "      <th>compound scores</th>\n",
       "    </tr>\n",
       "  </thead>\n",
       "  <tbody>\n",
       "    <tr>\n",
       "      <td>0</td>\n",
       "      <td>3900322</td>\n",
       "      <td>2019-08-12-051728</td>\n",
       "      <td>Not only winning the World Cup with her amazin...</td>\n",
       "      <td>Taylor Swift</td>\n",
       "      <td>['Q26876']</td>\n",
       "      <td>2019-08-12 12:55:41</td>\n",
       "      <td>[['Taylor Swift', '0.9038'], ['None', '0.0799'...</td>\n",
       "      <td>0.177</td>\n",
       "      <td>0.088</td>\n",
       "      <td>0.6717</td>\n",
       "    </tr>\n",
       "    <tr>\n",
       "      <td>1</td>\n",
       "      <td>3900920</td>\n",
       "      <td>2019-01-23-074654</td>\n",
       "      <td>Our main mission is to breach the gender gap,</td>\n",
       "      <td>None</td>\n",
       "      <td>[]</td>\n",
       "      <td>2019-01-23 05:46:04</td>\n",
       "      <td>[['None', '0.9186'], ['Chang Liu', '0.0814']]</td>\n",
       "      <td>0.000</td>\n",
       "      <td>0.000</td>\n",
       "      <td>0.0000</td>\n",
       "    </tr>\n",
       "    <tr>\n",
       "      <td>2</td>\n",
       "      <td>3902699</td>\n",
       "      <td>2019-12-19-020869</td>\n",
       "      <td>Growing up in Pakistan, I was a feminist befor...</td>\n",
       "      <td>Ziauddin Yousafzai</td>\n",
       "      <td>['Q8071389']</td>\n",
       "      <td>2019-12-19 17:03:35</td>\n",
       "      <td>[['Ziauddin Yousafzai', '0.7561'], ['None', '0...</td>\n",
       "      <td>0.149</td>\n",
       "      <td>0.070</td>\n",
       "      <td>0.2144</td>\n",
       "    </tr>\n",
       "    <tr>\n",
       "      <td>3</td>\n",
       "      <td>3904083</td>\n",
       "      <td>2019-03-28-032705</td>\n",
       "      <td>I didn't think I was breaking a trade secret, ...</td>\n",
       "      <td>Piers Morgan</td>\n",
       "      <td>['Q557758']</td>\n",
       "      <td>2019-03-28 04:09:36</td>\n",
       "      <td>[['Piers Morgan', '0.8436'], ['None', '0.1361'...</td>\n",
       "      <td>0.000</td>\n",
       "      <td>0.000</td>\n",
       "      <td>0.0000</td>\n",
       "    </tr>\n",
       "    <tr>\n",
       "      <td>4</td>\n",
       "      <td>3904546</td>\n",
       "      <td>2019-01-25-095509</td>\n",
       "      <td>The thing about misogyny is everyone does it,</td>\n",
       "      <td>None</td>\n",
       "      <td>[]</td>\n",
       "      <td>2019-01-25 21:18:53</td>\n",
       "      <td>[['None', '0.8255'], ['Karen Carpenter', '0.11...</td>\n",
       "      <td>0.000</td>\n",
       "      <td>0.000</td>\n",
       "      <td>0.0000</td>\n",
       "    </tr>\n",
       "  </tbody>\n",
       "</table>\n",
       "</div>"
      ],
      "text/plain": [
       "   Unnamed: 0            quoteID  \\\n",
       "0     3900322  2019-08-12-051728   \n",
       "1     3900920  2019-01-23-074654   \n",
       "2     3902699  2019-12-19-020869   \n",
       "3     3904083  2019-03-28-032705   \n",
       "4     3904546  2019-01-25-095509   \n",
       "\n",
       "                                           quotation             speaker  \\\n",
       "0  Not only winning the World Cup with her amazin...        Taylor Swift   \n",
       "1      Our main mission is to breach the gender gap,                None   \n",
       "2  Growing up in Pakistan, I was a feminist befor...  Ziauddin Yousafzai   \n",
       "3  I didn't think I was breaking a trade secret, ...        Piers Morgan   \n",
       "4      The thing about misogyny is everyone does it,                None   \n",
       "\n",
       "           qids                 date  \\\n",
       "0    ['Q26876']  2019-08-12 12:55:41   \n",
       "1            []  2019-01-23 05:46:04   \n",
       "2  ['Q8071389']  2019-12-19 17:03:35   \n",
       "3   ['Q557758']  2019-03-28 04:09:36   \n",
       "4            []  2019-01-25 21:18:53   \n",
       "\n",
       "                                              probas  positive scores  \\\n",
       "0  [['Taylor Swift', '0.9038'], ['None', '0.0799'...            0.177   \n",
       "1      [['None', '0.9186'], ['Chang Liu', '0.0814']]            0.000   \n",
       "2  [['Ziauddin Yousafzai', '0.7561'], ['None', '0...            0.149   \n",
       "3  [['Piers Morgan', '0.8436'], ['None', '0.1361'...            0.000   \n",
       "4  [['None', '0.8255'], ['Karen Carpenter', '0.11...            0.000   \n",
       "\n",
       "   negative scores  compound scores  \n",
       "0            0.088           0.6717  \n",
       "1            0.000           0.0000  \n",
       "2            0.070           0.2144  \n",
       "3            0.000           0.0000  \n",
       "4            0.000           0.0000  "
      ]
     },
     "execution_count": 150,
     "metadata": {},
     "output_type": "execute_result"
    }
   ],
   "source": [
    "df_ab.head()"
   ]
  },
  {
   "cell_type": "code",
   "execution_count": 157,
   "metadata": {},
   "outputs": [],
   "source": [
    "# save dataframes\n",
    "df_gw.to_csv('global_warming_sent.csv',index = False)\n",
    "df_ab.to_csv('abortion_sent.csv', index = False)\n",
    "df_gi.to_csv('gender_inequality_sent.csv', index = False)"
   ]
  },
  {
   "cell_type": "code",
   "execution_count": null,
   "metadata": {},
   "outputs": [],
   "source": []
  }
 ],
 "metadata": {
  "kernelspec": {
   "display_name": "Python 3",
   "language": "python",
   "name": "python3"
  },
  "language_info": {
   "codemirror_mode": {
    "name": "ipython",
    "version": 3
   },
   "file_extension": ".py",
   "mimetype": "text/x-python",
   "name": "python",
   "nbconvert_exporter": "python",
   "pygments_lexer": "ipython3",
   "version": "3.8.3"
  }
 },
 "nbformat": 4,
 "nbformat_minor": 5
}
